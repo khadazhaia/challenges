{
 "cells": [
  {
   "cell_type": "markdown",
   "metadata": {},
   "source": [
    "# String Challenge\n",
    "\n",
    "The following is a Jupyter Notebook which will test your knowledge on strings. Utilize your notes, your pod peers, and your documentation to answer the following questions.\n",
    "\n",
    "Implement each intended line of code beneath each comment."
   ]
  },
  {
   "cell_type": "code",
   "execution_count": 3,
   "metadata": {},
   "outputs": [
    {
     "name": "stdout",
     "output_type": "stream",
     "text": [
      "a\n"
     ]
    }
   ],
   "source": [
    "our_string = \"a foolish consistency is the hobgoblin of little minds\"\n",
    "\n",
    "# print out the first character of \"our_string\"\n",
    "print(our_string[0])"
   ]
  },
  {
   "cell_type": "code",
   "execution_count": 40,
   "metadata": {},
   "outputs": [
    {
     "name": "stdout",
     "output_type": "stream",
     "text": [
      "s\n"
     ]
    }
   ],
   "source": [
    "# print out the last character of \"our_string\"\n",
    "print(our_string[-1])"
   ]
  },
  {
   "cell_type": "code",
   "execution_count": 41,
   "metadata": {},
   "outputs": [
    {
     "name": "stdout",
     "output_type": "stream",
     "text": [
      "a foo\n"
     ]
    }
   ],
   "source": [
    "# print out the first five characters of \"our_string\"\n",
    "print(our_string[:5])"
   ]
  },
  {
   "cell_type": "code",
   "execution_count": 4,
   "metadata": {},
   "outputs": [
    {
     "name": "stdout",
     "output_type": "stream",
     "text": [
      "minds\n"
     ]
    }
   ],
   "source": [
    "# print out the last five characters of \"our_string\"\n",
    "print(our_string[-5:])"
   ]
  },
  {
   "cell_type": "code",
   "execution_count": 5,
   "metadata": {},
   "outputs": [
    {
     "name": "stdout",
     "output_type": "stream",
     "text": [
      "afoihcnitnyi h ogbi fltl id\n",
      "[None, -1, 'None']\n"
     ]
    }
   ],
   "source": [
    "our_string = \"a foolish consistency is the hobgoblin of little minds\"\n",
    "# print out every other letter of \"our_string\"\n",
    "print(our_string[::2])\n",
    "\n",
    "t = [False, 0, \"false\", [True, 1, \"true\", [None, -1, \"None\"]]]\n",
    "print(t[-1][-1])"
   ]
  },
  {
   "cell_type": "code",
   "execution_count": 44,
   "metadata": {},
   "outputs": [
    {
     "name": "stdout",
     "output_type": "stream",
     "text": [
      "aohnty  gift d\n"
     ]
    }
   ],
   "source": [
    "# print out every fourth letter of \"our_string\"\n",
    "print(our_string[::4])"
   ]
  },
  {
   "cell_type": "code",
   "execution_count": 45,
   "metadata": {},
   "outputs": [
    {
     "name": "stdout",
     "output_type": "stream",
     "text": [
      "a foolish consistency is the hobgoblin of little minds, adored by little statesmen and philosophers and divines.\n"
     ]
    }
   ],
   "source": [
    "# concatenate the \"next_string\" to \"our_string\" and print\n",
    "next_string = \", adored by little statesmen and philosophers and divines.\"\n",
    "print(our_string + next_string)"
   ]
  },
  {
   "cell_type": "code",
   "execution_count": 46,
   "metadata": {},
   "outputs": [
    {
     "name": "stdout",
     "output_type": "stream",
     "text": [
      "sdnim elttil fo nilbogboh eht si ycnetsisnoc hsiloof a\n"
     ]
    }
   ],
   "source": [
    "# print out the reverse of \"our_string\"\n",
    "print(our_string[::-1])"
   ]
  },
  {
   "cell_type": "code",
   "execution_count": 47,
   "metadata": {},
   "outputs": [
    {
     "name": "stdout",
     "output_type": "stream",
     "text": [
      "afoolishconsistencyisthehobgoblinoflittleminds\n"
     ]
    }
   ],
   "source": [
    "# remove all whitespace from the \"our_string\" variable and print out\n",
    "print(our_string.replace(\" \", \"\"))"
   ]
  },
  {
   "cell_type": "code",
   "execution_count": 48,
   "metadata": {},
   "outputs": [
    {
     "name": "stdout",
     "output_type": "stream",
     "text": [
      "A FOOLISH CONSISTENCY IS THE HOBGOBLIN OF LITTLE MINDS\n"
     ]
    }
   ],
   "source": [
    "# print out \"our_string\" in all uppercase\n",
    "print(our_string.upper())"
   ]
  },
  {
   "cell_type": "code",
   "execution_count": 49,
   "metadata": {},
   "outputs": [
    {
     "name": "stdout",
     "output_type": "stream",
     "text": [
      "A foolish consistency is the hobgoblin of little minds\n"
     ]
    }
   ],
   "source": [
    "# print out \"our_string\" in capital-case\n",
    "print(our_string.capitalize())"
   ]
  },
  {
   "cell_type": "code",
   "execution_count": 53,
   "metadata": {},
   "outputs": [
    {
     "name": "stdout",
     "output_type": "stream",
     "text": [
      "the\n"
     ]
    }
   ],
   "source": [
    "# break \"our_string\" into a list and print out the 5th word\n",
    "print(our_string.split(\" \")[4])"
   ]
  },
  {
   "cell_type": "code",
   "execution_count": 51,
   "metadata": {},
   "outputs": [
    {
     "name": "stdout",
     "output_type": "stream",
     "text": [
      "a foolish consistency is the hobgoblin of little minds\n",
      "1\n"
     ]
    }
   ],
   "source": [
    "# count how many times the letter \"a\" is used and print out this frequency\n",
    "print(our_string.count(\"a\"))"
   ]
  }
 ],
 "metadata": {
  "kernelspec": {
   "display_name": "Python 3 (ipykernel)",
   "language": "python",
   "name": "python3"
  },
  "language_info": {
   "codemirror_mode": {
    "name": "ipython",
    "version": 3
   },
   "file_extension": ".py",
   "mimetype": "text/x-python",
   "name": "python",
   "nbconvert_exporter": "python",
   "pygments_lexer": "ipython3",
   "version": "3.12.4"
  }
 },
 "nbformat": 4,
 "nbformat_minor": 1
}
