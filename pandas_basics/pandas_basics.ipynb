{
 "cells": [
  {
   "cell_type": "markdown",
   "metadata": {},
   "source": [
    "# Data Exploration Code-Along\n",
    "\n",
    "Implement the code-blocks below in order to explore some common data-exploration techniques. We will be using the `realestate.csv` file."
   ]
  },
  {
   "cell_type": "code",
   "execution_count": 357,
   "metadata": {},
   "outputs": [],
   "source": [
    "import pandas as pd\n",
    "import numpy as np\n",
    "\n",
    "import matplotlib.pyplot as plt\n",
    "import seaborn as sns"
   ]
  },
  {
   "cell_type": "code",
   "execution_count": 358,
   "metadata": {},
   "outputs": [],
   "source": [
    "# TODO: Load in your data from `../../data/realestate.csv`\n",
    "\n",
    "df = pd.read_csv(\"realestate.csv\")"
   ]
  },
  {
   "cell_type": "code",
   "execution_count": 359,
   "metadata": {},
   "outputs": [
    {
     "data": {
      "text/html": [
       "<div>\n",
       "<style scoped>\n",
       "    .dataframe tbody tr th:only-of-type {\n",
       "        vertical-align: middle;\n",
       "    }\n",
       "\n",
       "    .dataframe tbody tr th {\n",
       "        vertical-align: top;\n",
       "    }\n",
       "\n",
       "    .dataframe thead th {\n",
       "        text-align: right;\n",
       "    }\n",
       "</style>\n",
       "<table border=\"1\" class=\"dataframe\">\n",
       "  <thead>\n",
       "    <tr style=\"text-align: right;\">\n",
       "      <th></th>\n",
       "      <th>house age</th>\n",
       "      <th>distance_to_mrt</th>\n",
       "      <th>num_convenience_stores</th>\n",
       "      <th>price_per_unit_area</th>\n",
       "      <th>num_of_rooms</th>\n",
       "      <th>pet_friendly</th>\n",
       "    </tr>\n",
       "  </thead>\n",
       "  <tbody>\n",
       "    <tr>\n",
       "      <th>0</th>\n",
       "      <td>19.5</td>\n",
       "      <td>306.5947</td>\n",
       "      <td>9.0</td>\n",
       "      <td>42.2</td>\n",
       "      <td>2</td>\n",
       "      <td>No</td>\n",
       "    </tr>\n",
       "    <tr>\n",
       "      <th>1</th>\n",
       "      <td>13.3</td>\n",
       "      <td>561.9845</td>\n",
       "      <td>5.0</td>\n",
       "      <td>47.3</td>\n",
       "      <td>2</td>\n",
       "      <td>No</td>\n",
       "    </tr>\n",
       "    <tr>\n",
       "      <th>2</th>\n",
       "      <td>13.3</td>\n",
       "      <td>561.9845</td>\n",
       "      <td>5.0</td>\n",
       "      <td>54.8</td>\n",
       "      <td>4</td>\n",
       "      <td>No</td>\n",
       "    </tr>\n",
       "    <tr>\n",
       "      <th>3</th>\n",
       "      <td>5.0</td>\n",
       "      <td>390.5684</td>\n",
       "      <td>5.0</td>\n",
       "      <td>43.1</td>\n",
       "      <td>3</td>\n",
       "      <td>No</td>\n",
       "    </tr>\n",
       "    <tr>\n",
       "      <th>4</th>\n",
       "      <td>7.1</td>\n",
       "      <td>2175.0300</td>\n",
       "      <td>3.0</td>\n",
       "      <td>32.1</td>\n",
       "      <td>3</td>\n",
       "      <td>Yes</td>\n",
       "    </tr>\n",
       "  </tbody>\n",
       "</table>\n",
       "</div>"
      ],
      "text/plain": [
       "   house age  distance_to_mrt  num_convenience_stores  price_per_unit_area  \\\n",
       "0       19.5         306.5947                     9.0                 42.2   \n",
       "1       13.3         561.9845                     5.0                 47.3   \n",
       "2       13.3         561.9845                     5.0                 54.8   \n",
       "3        5.0         390.5684                     5.0                 43.1   \n",
       "4        7.1        2175.0300                     3.0                 32.1   \n",
       "\n",
       "   num_of_rooms pet_friendly  \n",
       "0             2           No  \n",
       "1             2           No  \n",
       "2             4           No  \n",
       "3             3           No  \n",
       "4             3          Yes  "
      ]
     },
     "execution_count": 359,
     "metadata": {},
     "output_type": "execute_result"
    }
   ],
   "source": [
    "# TODO: Observe first 5 rows\n",
    "\n",
    "df.head()"
   ]
  },
  {
   "cell_type": "code",
   "execution_count": 360,
   "metadata": {},
   "outputs": [
    {
     "name": "stdout",
     "output_type": "stream",
     "text": [
      "<class 'pandas.core.frame.DataFrame'>\n",
      "RangeIndex: 334 entries, 0 to 333\n",
      "Data columns (total 6 columns):\n",
      " #   Column                  Non-Null Count  Dtype  \n",
      "---  ------                  --------------  -----  \n",
      " 0   house age               334 non-null    float64\n",
      " 1   distance_to_mrt         334 non-null    float64\n",
      " 2   num_convenience_stores  334 non-null    float64\n",
      " 3   price_per_unit_area     334 non-null    float64\n",
      " 4   num_of_rooms            334 non-null    int64  \n",
      " 5   pet_friendly            334 non-null    object \n",
      "dtypes: float64(4), int64(1), object(1)\n",
      "memory usage: 15.8+ KB\n"
     ]
    }
   ],
   "source": [
    "# Gives info on data set\n",
    "\n",
    "df.info()"
   ]
  },
  {
   "cell_type": "code",
   "execution_count": 361,
   "metadata": {},
   "outputs": [
    {
     "data": {
      "text/plain": [
       "house age                 0\n",
       "distance_to_mrt           0\n",
       "num_convenience_stores    0\n",
       "price_per_unit_area       0\n",
       "num_of_rooms              0\n",
       "pet_friendly              0\n",
       "dtype: int64"
      ]
     },
     "execution_count": 361,
     "metadata": {},
     "output_type": "execute_result"
    }
   ],
   "source": [
    "# Check if theres null values \n",
    "\n",
    "df.isna()\n",
    "\n",
    "# Add up all the null values\n",
    "\n",
    "df.isna().sum()"
   ]
  },
  {
   "cell_type": "code",
   "execution_count": 362,
   "metadata": {},
   "outputs": [
    {
     "data": {
      "text/plain": [
       "0       306.59470\n",
       "1       561.98450\n",
       "2       561.98450\n",
       "3       390.56840\n",
       "4      2175.03000\n",
       "          ...    \n",
       "329     372.13860\n",
       "330      90.45606\n",
       "331     390.96960\n",
       "332     104.81010\n",
       "333      90.45606\n",
       "Name: distance_to_mrt, Length: 334, dtype: float64"
      ]
     },
     "execution_count": 362,
     "metadata": {},
     "output_type": "execute_result"
    }
   ],
   "source": [
    "# row & column\n",
    "df.loc[:, 'distance_to_mrt']"
   ]
  },
  {
   "cell_type": "code",
   "execution_count": 363,
   "metadata": {},
   "outputs": [
    {
     "data": {
      "text/plain": [
       "0       306.59470\n",
       "1       561.98450\n",
       "2       561.98450\n",
       "3       390.56840\n",
       "4      2175.03000\n",
       "          ...    \n",
       "329     372.13860\n",
       "330      90.45606\n",
       "331     390.96960\n",
       "332     104.81010\n",
       "333      90.45606\n",
       "Name: distance_to_mrt, Length: 334, dtype: float64"
      ]
     },
     "execution_count": 363,
     "metadata": {},
     "output_type": "execute_result"
    }
   ],
   "source": [
    "df.iloc[:, 1]"
   ]
  },
  {
   "cell_type": "code",
   "execution_count": 364,
   "metadata": {},
   "outputs": [
    {
     "data": {
      "text/html": [
       "<div>\n",
       "<style scoped>\n",
       "    .dataframe tbody tr th:only-of-type {\n",
       "        vertical-align: middle;\n",
       "    }\n",
       "\n",
       "    .dataframe tbody tr th {\n",
       "        vertical-align: top;\n",
       "    }\n",
       "\n",
       "    .dataframe thead th {\n",
       "        text-align: right;\n",
       "    }\n",
       "</style>\n",
       "<table border=\"1\" class=\"dataframe\">\n",
       "  <thead>\n",
       "    <tr style=\"text-align: right;\">\n",
       "      <th></th>\n",
       "      <th>house age</th>\n",
       "      <th>distance_to_mrt</th>\n",
       "      <th>num_convenience_stores</th>\n",
       "      <th>price_per_unit_area</th>\n",
       "      <th>num_of_rooms</th>\n",
       "    </tr>\n",
       "  </thead>\n",
       "  <tbody>\n",
       "    <tr>\n",
       "      <th>count</th>\n",
       "      <td>334.000000</td>\n",
       "      <td>334.000000</td>\n",
       "      <td>334.000000</td>\n",
       "      <td>334.000000</td>\n",
       "      <td>334.000000</td>\n",
       "    </tr>\n",
       "    <tr>\n",
       "      <th>mean</th>\n",
       "      <td>17.533234</td>\n",
       "      <td>812.824629</td>\n",
       "      <td>4.880240</td>\n",
       "      <td>40.295509</td>\n",
       "      <td>2.814371</td>\n",
       "    </tr>\n",
       "    <tr>\n",
       "      <th>std</th>\n",
       "      <td>11.775630</td>\n",
       "      <td>984.274974</td>\n",
       "      <td>2.552282</td>\n",
       "      <td>12.756827</td>\n",
       "      <td>1.513196</td>\n",
       "    </tr>\n",
       "    <tr>\n",
       "      <th>min</th>\n",
       "      <td>0.000000</td>\n",
       "      <td>23.382840</td>\n",
       "      <td>1.000000</td>\n",
       "      <td>7.600000</td>\n",
       "      <td>1.000000</td>\n",
       "    </tr>\n",
       "    <tr>\n",
       "      <th>25%</th>\n",
       "      <td>7.800000</td>\n",
       "      <td>279.172600</td>\n",
       "      <td>3.000000</td>\n",
       "      <td>31.100000</td>\n",
       "      <td>1.250000</td>\n",
       "    </tr>\n",
       "    <tr>\n",
       "      <th>50%</th>\n",
       "      <td>15.600000</td>\n",
       "      <td>443.967700</td>\n",
       "      <td>5.000000</td>\n",
       "      <td>40.300000</td>\n",
       "      <td>3.000000</td>\n",
       "    </tr>\n",
       "    <tr>\n",
       "      <th>75%</th>\n",
       "      <td>29.250000</td>\n",
       "      <td>967.400000</td>\n",
       "      <td>7.000000</td>\n",
       "      <td>47.850000</td>\n",
       "      <td>4.000000</td>\n",
       "    </tr>\n",
       "    <tr>\n",
       "      <th>max</th>\n",
       "      <td>43.800000</td>\n",
       "      <td>6488.021000</td>\n",
       "      <td>10.000000</td>\n",
       "      <td>117.500000</td>\n",
       "      <td>6.000000</td>\n",
       "    </tr>\n",
       "  </tbody>\n",
       "</table>\n",
       "</div>"
      ],
      "text/plain": [
       "        house age  distance_to_mrt  num_convenience_stores  \\\n",
       "count  334.000000       334.000000              334.000000   \n",
       "mean    17.533234       812.824629                4.880240   \n",
       "std     11.775630       984.274974                2.552282   \n",
       "min      0.000000        23.382840                1.000000   \n",
       "25%      7.800000       279.172600                3.000000   \n",
       "50%     15.600000       443.967700                5.000000   \n",
       "75%     29.250000       967.400000                7.000000   \n",
       "max     43.800000      6488.021000               10.000000   \n",
       "\n",
       "       price_per_unit_area  num_of_rooms  \n",
       "count           334.000000    334.000000  \n",
       "mean             40.295509      2.814371  \n",
       "std              12.756827      1.513196  \n",
       "min               7.600000      1.000000  \n",
       "25%              31.100000      1.250000  \n",
       "50%              40.300000      3.000000  \n",
       "75%              47.850000      4.000000  \n",
       "max             117.500000      6.000000  "
      ]
     },
     "execution_count": 364,
     "metadata": {},
     "output_type": "execute_result"
    }
   ],
   "source": [
    "# TODO: describe tukey's numbers\n",
    "\n",
    "df.describe()"
   ]
  },
  {
   "cell_type": "code",
   "execution_count": 365,
   "metadata": {},
   "outputs": [
    {
     "data": {
      "text/plain": [
       "<Axes: ylabel='Frequency'>"
      ]
     },
     "execution_count": 365,
     "metadata": {},
     "output_type": "execute_result"
    },
    {
     "data": {
      "image/png": "[encoded data removed]",
      "text/plain": [
       "<Figure size 640x480 with 1 Axes>"
      ]
     },
     "metadata": {},
     "output_type": "display_data"
    }
   ],
   "source": [
    "df[\"distance_to_mrt\"].plot.hist(bins=50)\n",
    "\n",
    "# bi_modial distrubution (multi-mode distrubution meaning more than one mode)\n"
   ]
  },
  {
   "cell_type": "markdown",
   "metadata": {},
   "source": [
    "Right skewed, massively postive outliers (consider removal)\n",
    "possibly 2 clusters within dataset\n",
    "\n",
    "Using bins is like zooming in and seeing more of your data\n",
    "\n",
    "with bins(30) you can clealy see your outliers \n"
   ]
  },
  {
   "cell_type": "code",
   "execution_count": 366,
   "metadata": {},
   "outputs": [
    {
     "data": {
      "text/plain": [
       "<Axes: ylabel='Frequency'>"
      ]
     },
     "execution_count": 366,
     "metadata": {},
     "output_type": "execute_result"
    },
    {
     "data": {
      "image/png": "[encoded data removed]",
      "text/plain": [
       "<Figure size 640x480 with 1 Axes>"
      ]
     },
     "metadata": {},
     "output_type": "display_data"
    }
   ],
   "source": [
    "df[\"house age\"].plot.hist(bins=40)\n",
    "\n",
    "# also bimodial distrubution - see 2 clusters distubiton "
   ]
  },
  {
   "cell_type": "markdown",
   "metadata": {},
   "source": [
    "possibly 2 clusters within dataset\n",
    "\n",
    "with bins(40) you can see its actually 3 clusters "
   ]
  },
  {
   "cell_type": "code",
   "execution_count": 367,
   "metadata": {},
   "outputs": [
    {
     "data": {
      "text/plain": [
       "<Axes: xlabel='house age', ylabel='price_per_unit_area'>"
      ]
     },
     "execution_count": 367,
     "metadata": {},
     "output_type": "execute_result"
    },
    {
     "data": {
      "image/png": "[encoded data removed]",
      "text/plain": [
       "<Figure size 640x480 with 1 Axes>"
      ]
     },
     "metadata": {},
     "output_type": "display_data"
    }
   ],
   "source": [
    "sns.scatterplot(data=df, x=\"house age\", y=\"price_per_unit_area\")\n",
    "\n",
    "# x axis dependent & y a xis independent "
   ]
  },
  {
   "cell_type": "markdown",
   "metadata": {},
   "source": [
    "See a negative and positive coorelation"
   ]
  },
  {
   "cell_type": "code",
   "execution_count": 368,
   "metadata": {},
   "outputs": [
    {
     "data": {
      "text/plain": [
       "<Axes: ylabel='Frequency'>"
      ]
     },
     "execution_count": 368,
     "metadata": {},
     "output_type": "execute_result"
    },
    {
     "data": {
      "image/png": "[encoded data removed]",
      "text/plain": [
       "<Figure size 640x480 with 1 Axes>"
      ]
     },
     "metadata": {},
     "output_type": "display_data"
    }
   ],
   "source": [
    "df[\"price_per_unit_area\"].plot.hist(bins=60)"
   ]
  },
  {
   "cell_type": "markdown",
   "metadata": {},
   "source": [
    "right-skew normal distribution\n",
    "\n",
    "with bins(60) you can definetly see its a normal distribution"
   ]
  },
  {
   "cell_type": "code",
   "execution_count": 369,
   "metadata": {},
   "outputs": [
    {
     "data": {
      "text/plain": [
       "<Axes: ylabel='Frequency'>"
      ]
     },
     "execution_count": 369,
     "metadata": {},
     "output_type": "execute_result"
    },
    {
     "data": {
      "image/png": "[encoded data removed]",
      "text/plain": [
       "<Figure size 640x480 with 1 Axes>"
      ]
     },
     "metadata": {},
     "output_type": "display_data"
    }
   ],
   "source": [
    "df[\"num_convenience_stores\"].plot.hist(bins=50)"
   ]
  },
  {
   "cell_type": "markdown",
   "metadata": {},
   "source": [
    "not skewed - normal distribution\n",
    "\n",
    "bins(50) turned it to a bar chart"
   ]
  },
  {
   "cell_type": "code",
   "execution_count": 370,
   "metadata": {},
   "outputs": [
    {
     "data": {
      "text/plain": [
       "<Axes: xlabel='num_convenience_stores'>"
      ]
     },
     "execution_count": 370,
     "metadata": {},
     "output_type": "execute_result"
    },
    {
     "data": {
      "image/png": "[encoded data removed]",
      "text/plain": [
       "<Figure size 640x480 with 1 Axes>"
      ]
     },
     "metadata": {},
     "output_type": "display_data"
    }
   ],
   "source": [
    "df.value_counts(\"num_convenience_stores\").plot.bar()"
   ]
  },
  {
   "cell_type": "code",
   "execution_count": 371,
   "metadata": {},
   "outputs": [
    {
     "data": {
      "text/plain": [
       "<Axes: xlabel='pet_friendly'>"
      ]
     },
     "execution_count": 371,
     "metadata": {},
     "output_type": "execute_result"
    },
    {
     "data": {
      "image/png": "[encoded data removed]",
      "text/plain": [
       "<Figure size 640x480 with 1 Axes>"
      ]
     },
     "metadata": {},
     "output_type": "display_data"
    }
   ],
   "source": [
    "df.value_counts(\"pet_friendly\").plot.bar()"
   ]
  },
  {
   "cell_type": "code",
   "execution_count": 372,
   "metadata": {},
   "outputs": [
    {
     "data": {
      "text/plain": [
       "<Axes: xlabel='num_of_rooms'>"
      ]
     },
     "execution_count": 372,
     "metadata": {},
     "output_type": "execute_result"
    },
    {
     "data": {
      "image/png": "[encoded data removed]",
      "text/plain": [
       "<Figure size 640x480 with 1 Axes>"
      ]
     },
     "metadata": {},
     "output_type": "display_data"
    }
   ],
   "source": [
    "df.value_counts(\"num_of_rooms\").plot.bar()"
   ]
  },
  {
   "cell_type": "code",
   "execution_count": 373,
   "metadata": {},
   "outputs": [
    {
     "name": "stdout",
     "output_type": "stream",
     "text": [
      "<class 'pandas.core.frame.DataFrame'>\n",
      "RangeIndex: 334 entries, 0 to 333\n",
      "Data columns (total 6 columns):\n",
      " #   Column                  Non-Null Count  Dtype  \n",
      "---  ------                  --------------  -----  \n",
      " 0   house age               334 non-null    float64\n",
      " 1   distance_to_mrt         334 non-null    float64\n",
      " 2   num_convenience_stores  334 non-null    float64\n",
      " 3   price_per_unit_area     334 non-null    float64\n",
      " 4   num_of_rooms            334 non-null    int64  \n",
      " 5   pet_friendly            334 non-null    object \n",
      "dtypes: float64(4), int64(1), object(1)\n",
      "memory usage: 15.8+ KB\n"
     ]
    }
   ],
   "source": [
    "df.info()"
   ]
  },
  {
   "cell_type": "markdown",
   "metadata": {},
   "source": [
    "num_of_rooms is categorical so it should be int64\n",
    "object is essentially a string data type "
   ]
  },
  {
   "cell_type": "code",
   "execution_count": 374,
   "metadata": {},
   "outputs": [
    {
     "data": {
      "text/plain": [
       "<Axes: xlabel='num_of_rooms', ylabel='price_per_unit_area'>"
      ]
     },
     "execution_count": 374,
     "metadata": {},
     "output_type": "execute_result"
    },
    {
     "data": {
      "image/png": "[encoded data removed]",
      "text/plain": [
       "<Figure size 640x480 with 1 Axes>"
      ]
     },
     "metadata": {},
     "output_type": "display_data"
    }
   ],
   "source": [
    "# use seaborn to create a boxplot (must be categorical and continuous)\n",
    "\n",
    "sns.boxplot(data=df, x=\"num_of_rooms\", y=\"price_per_unit_area\")"
   ]
  },
  {
   "cell_type": "markdown",
   "metadata": {},
   "source": [
    "look at median\n",
    "\n",
    "price per unit area increses by num of rooms\n",
    "\n",
    "It seems that as we have more rooms in the apt the price of rooms go up "
   ]
  },
  {
   "cell_type": "code",
   "execution_count": 375,
   "metadata": {},
   "outputs": [
    {
     "data": {
      "text/plain": [
       "<Axes: xlabel='num_convenience_stores', ylabel='price_per_unit_area'>"
      ]
     },
     "execution_count": 375,
     "metadata": {},
     "output_type": "execute_result"
    },
    {
     "data": {
      "image/png": "[encoded data removed]",
      "text/plain": [
       "<Figure size 640x480 with 1 Axes>"
      ]
     },
     "metadata": {},
     "output_type": "display_data"
    }
   ],
   "source": [
    "sns.boxplot(data=df, x=\"num_convenience_stores\", y=\"price_per_unit_area\")"
   ]
  },
  {
   "cell_type": "markdown",
   "metadata": {},
   "source": [
    "if median lower end of the box plot near Q1 indicates right skewed\n",
    "\n",
    "if median higher end of the box plot near Q3 indicates left skewed"
   ]
  },
  {
   "cell_type": "code",
   "execution_count": 376,
   "metadata": {},
   "outputs": [
    {
     "data": {
      "text/plain": [
       "<Axes: xlabel='pet_friendly', ylabel='price_per_unit_area'>"
      ]
     },
     "execution_count": 376,
     "metadata": {},
     "output_type": "execute_result"
    },
    {
     "data": {
      "image/png": "[encoded data removed]",
      "text/plain": [
       "<Figure size 640x480 with 1 Axes>"
      ]
     },
     "metadata": {},
     "output_type": "display_data"
    }
   ],
   "source": [
    "sns.boxplot(data=df, x=\"pet_friendly\", y=\"price_per_unit_area\")"
   ]
  },
  {
   "cell_type": "markdown",
   "metadata": {},
   "source": [
    "Please note if it falls outside the box plot its an outlier"
   ]
  },
  {
   "cell_type": "code",
   "execution_count": 377,
   "metadata": {},
   "outputs": [
    {
     "data": {
      "text/plain": [
       "num_of_rooms\n",
       "1    84\n",
       "2    73\n",
       "4    71\n",
       "3    65\n",
       "6    26\n",
       "5    15\n",
       "Name: count, dtype: int64"
      ]
     },
     "execution_count": 377,
     "metadata": {},
     "output_type": "execute_result"
    }
   ],
   "source": [
    "# TODO: count the frequency of unique values in the \"num_of_rooms\" column, save this value into a new dataframe named \"room_counts\"\n",
    "# Documentation: https://pandas.pydata.org/docs/reference/api/pandas.DataFrame.value_counts.html\n",
    "\n",
    "room_counts = df.value_counts(\"num_of_rooms\")\n",
    "room_counts"
   ]
  },
  {
   "cell_type": "code",
   "execution_count": 378,
   "metadata": {},
   "outputs": [
    {
     "data": {
      "text/plain": [
       "num_of_rooms\n",
       "1    31.438095\n",
       "2    31.901370\n",
       "3    44.372308\n",
       "4    46.774648\n",
       "5    56.386667\n",
       "6    55.311538\n",
       "Name: price_per_unit_area, dtype: float64"
      ]
     },
     "execution_count": 378,
     "metadata": {},
     "output_type": "execute_result"
    }
   ],
   "source": [
    "df.groupby(\"num_of_rooms\")[\"price_per_unit_area\"].mean()"
   ]
  },
  {
   "cell_type": "markdown",
   "metadata": {},
   "source": [
    "The price increase based on the num of rooms"
   ]
  },
  {
   "cell_type": "code",
   "execution_count": 379,
   "metadata": {},
   "outputs": [
    {
     "data": {
      "text/plain": [
       "num_of_rooms\n",
       "1    19.591667\n",
       "2    19.232877\n",
       "3    17.449231\n",
       "4    16.242254\n",
       "5    12.160000\n",
       "6    12.946154\n",
       "Name: house age, dtype: float64"
      ]
     },
     "execution_count": 379,
     "metadata": {},
     "output_type": "execute_result"
    }
   ],
   "source": [
    "df.groupby(\"num_of_rooms\")[\"house age\"].mean()"
   ]
  },
  {
   "cell_type": "markdown",
   "metadata": {},
   "source": [
    "more rooms the lower the house age"
   ]
  },
  {
   "cell_type": "code",
   "execution_count": 380,
   "metadata": {},
   "outputs": [
    {
     "data": {
      "text/plain": [
       "num_of_rooms\n",
       "1    1303.687553\n",
       "2    1291.450847\n",
       "3     404.395853\n",
       "4     440.108801\n",
       "5     224.825287\n",
       "6     261.227895\n",
       "Name: distance_to_mrt, dtype: float64"
      ]
     },
     "execution_count": 380,
     "metadata": {},
     "output_type": "execute_result"
    }
   ],
   "source": [
    "df.groupby(\"num_of_rooms\")[\"distance_to_mrt\"].mean()"
   ]
  },
  {
   "cell_type": "markdown",
   "metadata": {},
   "source": [
    "more rooms it has the closer it is to mass transprtation\n",
    "\n",
    "outliers might be skewing the data"
   ]
  },
  {
   "cell_type": "code",
   "execution_count": 381,
   "metadata": {},
   "outputs": [
    {
     "data": {
      "text/plain": [
       "pet_friendly\n",
       "No     18.192275\n",
       "Yes    16.012871\n",
       "Name: house age, dtype: float64"
      ]
     },
     "execution_count": 381,
     "metadata": {},
     "output_type": "execute_result"
    }
   ],
   "source": [
    "df.groupby(\"pet_friendly\")[\"house age\"].mean()"
   ]
  },
  {
   "cell_type": "markdown",
   "metadata": {},
   "source": [
    "newer apartments are more pet friendly"
   ]
  },
  {
   "cell_type": "code",
   "execution_count": 382,
   "metadata": {},
   "outputs": [
    {
     "data": {
      "text/plain": [
       "pet_friendly\n",
       "No     5.489270\n",
       "Yes    3.475248\n",
       "Name: num_convenience_stores, dtype: float64"
      ]
     },
     "execution_count": 382,
     "metadata": {},
     "output_type": "execute_result"
    }
   ],
   "source": [
    "# I want to calculate the avg num of convenience stores next to different types of pet friendly apartment\n",
    "df.groupby(\"pet_friendly\")[\"num_convenience_stores\"].mean()"
   ]
  },
  {
   "cell_type": "markdown",
   "metadata": {},
   "source": [
    "More pet friendly less convience stores"
   ]
  },
  {
   "cell_type": "code",
   "execution_count": 383,
   "metadata": {},
   "outputs": [
    {
     "data": {
      "text/html": [
       "<div>\n",
       "<style scoped>\n",
       "    .dataframe tbody tr th:only-of-type {\n",
       "        vertical-align: middle;\n",
       "    }\n",
       "\n",
       "    .dataframe tbody tr th {\n",
       "        vertical-align: top;\n",
       "    }\n",
       "\n",
       "    .dataframe thead th {\n",
       "        text-align: right;\n",
       "    }\n",
       "</style>\n",
       "<table border=\"1\" class=\"dataframe\">\n",
       "  <thead>\n",
       "    <tr style=\"text-align: right;\">\n",
       "      <th></th>\n",
       "      <th>house age</th>\n",
       "      <th>distance_to_mrt</th>\n",
       "      <th>num_convenience_stores</th>\n",
       "      <th>price_per_unit_area</th>\n",
       "      <th>num_of_rooms</th>\n",
       "    </tr>\n",
       "    <tr>\n",
       "      <th>pet_friendly</th>\n",
       "      <th></th>\n",
       "      <th></th>\n",
       "      <th></th>\n",
       "      <th></th>\n",
       "      <th></th>\n",
       "    </tr>\n",
       "  </thead>\n",
       "  <tbody>\n",
       "    <tr>\n",
       "      <th>No</th>\n",
       "      <td>18.192275</td>\n",
       "      <td>520.536241</td>\n",
       "      <td>5.489270</td>\n",
       "      <td>43.244206</td>\n",
       "      <td>3.055794</td>\n",
       "    </tr>\n",
       "    <tr>\n",
       "      <th>Yes</th>\n",
       "      <td>16.012871</td>\n",
       "      <td>1487.113683</td>\n",
       "      <td>3.475248</td>\n",
       "      <td>33.493069</td>\n",
       "      <td>2.257426</td>\n",
       "    </tr>\n",
       "  </tbody>\n",
       "</table>\n",
       "</div>"
      ],
      "text/plain": [
       "              house age  distance_to_mrt  num_convenience_stores  \\\n",
       "pet_friendly                                                       \n",
       "No            18.192275       520.536241                5.489270   \n",
       "Yes           16.012871      1487.113683                3.475248   \n",
       "\n",
       "              price_per_unit_area  num_of_rooms  \n",
       "pet_friendly                                     \n",
       "No                      43.244206      3.055794  \n",
       "Yes                     33.493069      2.257426  "
      ]
     },
     "execution_count": 383,
     "metadata": {},
     "output_type": "execute_result"
    }
   ],
   "source": [
    "df.groupby(\"pet_friendly\").mean()"
   ]
  },
  {
   "cell_type": "code",
   "execution_count": 384,
   "metadata": {},
   "outputs": [],
   "source": [
    "# Will drop null values\n",
    "\n",
    "# df_dropped = df.dropna()\n",
    "\n",
    "# This will check if we really dropped vaules\n",
    "# df_dropped.isna().sum()"
   ]
  },
  {
   "cell_type": "code",
   "execution_count": 385,
   "metadata": {},
   "outputs": [],
   "source": [
    "# Don't save to variable, isna.sum will return to a none type, this really limits you\n",
    "\n",
    "# df.dropna(inplace=True)"
   ]
  },
  {
   "cell_type": "markdown",
   "metadata": {},
   "source": [
    "# Basic Pandas \n",
    "\n",
    "Let's tackle questions 1-5 as a group (co-coding). We will call on you randomly to solve these programming problems. Think of this as an equivalent of programming interview questions."
   ]
  },
  {
   "cell_type": "code",
   "execution_count": 386,
   "metadata": {},
   "outputs": [],
   "source": [
    "import pandas as pd\n",
    "import numpy as np\n",
    "\n",
    "data = {\n",
    "    \"type\": [\"Robusta\", \"Arabica\", \"Robusta\", \"Arabica\", \"Arabica\"],\n",
    "    \"amount_kg\": [10, 100, 20, 50, 80],\n",
    "    \"destination\": [\"US\", \"US\", \"JP\", \"DE\", \"US\"],\n",
    "    \"unit_price\": [3.264, 4.473, 3.293, 4.573, 4.473]\n",
    "}\n",
    "\n",
    "df = pd.DataFrame(data)"
   ]
  },
  {
   "cell_type": "code",
   "execution_count": 387,
   "metadata": {},
   "outputs": [
    {
     "data": {
      "text/html": [
       "<div>\n",
       "<style scoped>\n",
       "    .dataframe tbody tr th:only-of-type {\n",
       "        vertical-align: middle;\n",
       "    }\n",
       "\n",
       "    .dataframe tbody tr th {\n",
       "        vertical-align: top;\n",
       "    }\n",
       "\n",
       "    .dataframe thead th {\n",
       "        text-align: right;\n",
       "    }\n",
       "</style>\n",
       "<table border=\"1\" class=\"dataframe\">\n",
       "  <thead>\n",
       "    <tr style=\"text-align: right;\">\n",
       "      <th></th>\n",
       "      <th>type</th>\n",
       "      <th>amount_kg</th>\n",
       "      <th>destination</th>\n",
       "      <th>unit_price</th>\n",
       "    </tr>\n",
       "  </thead>\n",
       "  <tbody>\n",
       "    <tr>\n",
       "      <th>0</th>\n",
       "      <td>Robusta</td>\n",
       "      <td>10</td>\n",
       "      <td>US</td>\n",
       "      <td>3.264</td>\n",
       "    </tr>\n",
       "    <tr>\n",
       "      <th>1</th>\n",
       "      <td>Arabica</td>\n",
       "      <td>100</td>\n",
       "      <td>US</td>\n",
       "      <td>4.473</td>\n",
       "    </tr>\n",
       "    <tr>\n",
       "      <th>2</th>\n",
       "      <td>Robusta</td>\n",
       "      <td>20</td>\n",
       "      <td>JP</td>\n",
       "      <td>3.293</td>\n",
       "    </tr>\n",
       "    <tr>\n",
       "      <th>3</th>\n",
       "      <td>Arabica</td>\n",
       "      <td>50</td>\n",
       "      <td>DE</td>\n",
       "      <td>4.573</td>\n",
       "    </tr>\n",
       "    <tr>\n",
       "      <th>4</th>\n",
       "      <td>Arabica</td>\n",
       "      <td>80</td>\n",
       "      <td>US</td>\n",
       "      <td>4.473</td>\n",
       "    </tr>\n",
       "  </tbody>\n",
       "</table>\n",
       "</div>"
      ],
      "text/plain": [
       "      type  amount_kg destination  unit_price\n",
       "0  Robusta         10          US       3.264\n",
       "1  Arabica        100          US       4.473\n",
       "2  Robusta         20          JP       3.293\n",
       "3  Arabica         50          DE       4.573\n",
       "4  Arabica         80          US       4.473"
      ]
     },
     "execution_count": 387,
     "metadata": {},
     "output_type": "execute_result"
    }
   ],
   "source": [
    "df"
   ]
  },
  {
   "cell_type": "code",
   "execution_count": 388,
   "metadata": {},
   "outputs": [],
   "source": [
    "df.to_csv(\"new.csv\", index=False)"
   ]
  },
  {
   "cell_type": "code",
   "execution_count": 389,
   "metadata": {},
   "outputs": [
    {
     "data": {
      "text/plain": [
       "Ellipsis"
      ]
     },
     "execution_count": 389,
     "metadata": {},
     "output_type": "execute_result"
    }
   ],
   "source": [
    "# Q1\n",
    "# TODO: Use a pandas method on `df` to count the frequency of orders by countries in this dataset\n",
    "\n",
    "..."
   ]
  },
  {
   "cell_type": "code",
   "execution_count": 390,
   "metadata": {},
   "outputs": [
    {
     "data": {
      "text/plain": [
       "52.0"
      ]
     },
     "execution_count": 390,
     "metadata": {},
     "output_type": "execute_result"
    }
   ],
   "source": [
    "# Q2\n",
    "# TODO: Use a pandas method on `df` to calculate the mean amount_kg ordered\n",
    "\n",
    "df.loc[:, 'amount_kg'].mean()\n",
    "\n",
    "df[\"amount_kg\"].mean()"
   ]
  },
  {
   "cell_type": "code",
   "execution_count": 391,
   "metadata": {},
   "outputs": [
    {
     "data": {
      "text/plain": [
       "Ellipsis"
      ]
     },
     "execution_count": 391,
     "metadata": {},
     "output_type": "execute_result"
    }
   ],
   "source": [
    "# Q3\n",
    "# TODO: Use a pandas method on `df` to calculate the median unit_price\n",
    "\n",
    "..."
   ]
  },
  {
   "cell_type": "markdown",
   "metadata": {},
   "source": [
    "# Split Apply Combine\n",
    "\n",
    "Questions 1-3 build off the previous code-blocks."
   ]
  },
  {
   "cell_type": "code",
   "execution_count": 392,
   "metadata": {},
   "outputs": [
    {
     "data": {
      "text/plain": [
       "Ellipsis"
      ]
     },
     "execution_count": 392,
     "metadata": {},
     "output_type": "execute_result"
    }
   ],
   "source": [
    "# Q1\n",
    "# TODO: Calculate the mean unit_price for each destination\n",
    "\n",
    "..."
   ]
  },
  {
   "cell_type": "code",
   "execution_count": 393,
   "metadata": {},
   "outputs": [
    {
     "data": {
      "text/plain": [
       "Ellipsis"
      ]
     },
     "execution_count": 393,
     "metadata": {},
     "output_type": "execute_result"
    }
   ],
   "source": [
    "# Q2\n",
    "# TODO: Calculate the mean amount_kg for each type\n",
    "\n",
    "..."
   ]
  },
  {
   "cell_type": "code",
   "execution_count": 394,
   "metadata": {},
   "outputs": [
    {
     "data": {
      "text/plain": [
       "Ellipsis"
      ]
     },
     "execution_count": 394,
     "metadata": {},
     "output_type": "execute_result"
    }
   ],
   "source": [
    "# Q2\n",
    "# TODO: Calculate the mean unit_price for each destination & type\n",
    "\n",
    "..."
   ]
  },
  {
   "cell_type": "markdown",
   "metadata": {},
   "source": [
    "# Resampling\n",
    "\n",
    "We will tackle questions 1-3 as a group (co-coding). We will call on you randomly to solve these programming problems. Think of this as an equivalent of programming interview questions."
   ]
  },
  {
   "cell_type": "code",
   "execution_count": 395,
   "metadata": {},
   "outputs": [
    {
     "data": {
      "text/html": [
       "<div>\n",
       "<style scoped>\n",
       "    .dataframe tbody tr th:only-of-type {\n",
       "        vertical-align: middle;\n",
       "    }\n",
       "\n",
       "    .dataframe tbody tr th {\n",
       "        vertical-align: top;\n",
       "    }\n",
       "\n",
       "    .dataframe thead th {\n",
       "        text-align: right;\n",
       "    }\n",
       "</style>\n",
       "<table border=\"1\" class=\"dataframe\">\n",
       "  <thead>\n",
       "    <tr style=\"text-align: right;\">\n",
       "      <th></th>\n",
       "      <th>sentiment</th>\n",
       "      <th>id</th>\n",
       "      <th>date</th>\n",
       "      <th>NO_QUERY</th>\n",
       "      <th>user</th>\n",
       "      <th>tweet</th>\n",
       "    </tr>\n",
       "  </thead>\n",
       "  <tbody>\n",
       "    <tr>\n",
       "      <th>0</th>\n",
       "      <td>0</td>\n",
       "      <td>1548276360</td>\n",
       "      <td>Fri Apr 17 20:30:47 PDT 2009</td>\n",
       "      <td>NO_QUERY</td>\n",
       "      <td>customcanvasart</td>\n",
       "      <td>@USEOFFORCEENT so sorry for your loss honey  I...</td>\n",
       "    </tr>\n",
       "    <tr>\n",
       "      <th>1</th>\n",
       "      <td>0</td>\n",
       "      <td>1548276887</td>\n",
       "      <td>Fri Apr 17 20:30:54 PDT 2009</td>\n",
       "      <td>NO_QUERY</td>\n",
       "      <td>KuppyKakejEs</td>\n",
       "      <td>Getting hair done tomorrow.Nawt exicted at all.</td>\n",
       "    </tr>\n",
       "    <tr>\n",
       "      <th>2</th>\n",
       "      <td>0</td>\n",
       "      <td>1548276901</td>\n",
       "      <td>Fri Apr 17 20:30:55 PDT 2009</td>\n",
       "      <td>NO_QUERY</td>\n",
       "      <td>zoeydecay</td>\n",
       "      <td>Bored watching Law and Order. Wanting sunday t...</td>\n",
       "    </tr>\n",
       "    <tr>\n",
       "      <th>3</th>\n",
       "      <td>0</td>\n",
       "      <td>1548277792</td>\n",
       "      <td>Fri Apr 17 20:31:04 PDT 2009</td>\n",
       "      <td>NO_QUERY</td>\n",
       "      <td>leabella</td>\n",
       "      <td>Actually I had 503   maybe I should put my web...</td>\n",
       "    </tr>\n",
       "    <tr>\n",
       "      <th>4</th>\n",
       "      <td>0</td>\n",
       "      <td>1548277960</td>\n",
       "      <td>Fri Apr 17 20:31:05 PDT 2009</td>\n",
       "      <td>NO_QUERY</td>\n",
       "      <td>AnitaKoch</td>\n",
       "      <td>@lkhalladay Colorado's a beautiful state, but ...</td>\n",
       "    </tr>\n",
       "  </tbody>\n",
       "</table>\n",
       "</div>"
      ],
      "text/plain": [
       "   sentiment          id                          date  NO_QUERY  \\\n",
       "0          0  1548276360  Fri Apr 17 20:30:47 PDT 2009  NO_QUERY   \n",
       "1          0  1548276887  Fri Apr 17 20:30:54 PDT 2009  NO_QUERY   \n",
       "2          0  1548276901  Fri Apr 17 20:30:55 PDT 2009  NO_QUERY   \n",
       "3          0  1548277792  Fri Apr 17 20:31:04 PDT 2009  NO_QUERY   \n",
       "4          0  1548277960  Fri Apr 17 20:31:05 PDT 2009  NO_QUERY   \n",
       "\n",
       "              user                                              tweet  \n",
       "0  customcanvasart  @USEOFFORCEENT so sorry for your loss honey  I...  \n",
       "1     KuppyKakejEs   Getting hair done tomorrow.Nawt exicted at all.   \n",
       "2        zoeydecay  Bored watching Law and Order. Wanting sunday t...  \n",
       "3         leabella  Actually I had 503   maybe I should put my web...  \n",
       "4        AnitaKoch  @lkhalladay Colorado's a beautiful state, but ...  "
      ]
     },
     "execution_count": 395,
     "metadata": {},
     "output_type": "execute_result"
    }
   ],
   "source": [
    "df = pd.read_csv(\"tweets.csv\")\n",
    "df.head()"
   ]
  },
  {
   "cell_type": "code",
   "execution_count": 396,
   "metadata": {},
   "outputs": [
    {
     "name": "stderr",
     "output_type": "stream",
     "text": [
      "/var/folders/8s/6z8k89ls5219_662hzy190h80000gn/T/ipykernel_10113/1353756450.py:4: FutureWarning: Parsed string \"Fri Apr 17 20:30:47 PDT 2009\" included an un-recognized timezone \"PDT\". Dropping unrecognized timezones is deprecated; in a future version this will raise. Instead pass the string without the timezone, then use .tz_localize to convert to a recognized timezone.\n",
      "  df[\"date\"] = pd.to_datetime(df[\"date\"])\n"
     ]
    },
    {
     "data": {
      "text/html": [
       "<div>\n",
       "<style scoped>\n",
       "    .dataframe tbody tr th:only-of-type {\n",
       "        vertical-align: middle;\n",
       "    }\n",
       "\n",
       "    .dataframe tbody tr th {\n",
       "        vertical-align: top;\n",
       "    }\n",
       "\n",
       "    .dataframe thead th {\n",
       "        text-align: right;\n",
       "    }\n",
       "</style>\n",
       "<table border=\"1\" class=\"dataframe\">\n",
       "  <thead>\n",
       "    <tr style=\"text-align: right;\">\n",
       "      <th></th>\n",
       "      <th>sentiment</th>\n",
       "      <th>id</th>\n",
       "      <th>NO_QUERY</th>\n",
       "      <th>user</th>\n",
       "      <th>tweet</th>\n",
       "    </tr>\n",
       "    <tr>\n",
       "      <th>date</th>\n",
       "      <th></th>\n",
       "      <th></th>\n",
       "      <th></th>\n",
       "      <th></th>\n",
       "      <th></th>\n",
       "    </tr>\n",
       "  </thead>\n",
       "  <tbody>\n",
       "    <tr>\n",
       "      <th>2009-04-17 20:30:47</th>\n",
       "      <td>0</td>\n",
       "      <td>1548276360</td>\n",
       "      <td>NO_QUERY</td>\n",
       "      <td>customcanvasart</td>\n",
       "      <td>@USEOFFORCEENT so sorry for your loss honey  I...</td>\n",
       "    </tr>\n",
       "    <tr>\n",
       "      <th>2009-04-17 20:30:54</th>\n",
       "      <td>0</td>\n",
       "      <td>1548276887</td>\n",
       "      <td>NO_QUERY</td>\n",
       "      <td>KuppyKakejEs</td>\n",
       "      <td>Getting hair done tomorrow.Nawt exicted at all.</td>\n",
       "    </tr>\n",
       "    <tr>\n",
       "      <th>2009-04-17 20:30:55</th>\n",
       "      <td>0</td>\n",
       "      <td>1548276901</td>\n",
       "      <td>NO_QUERY</td>\n",
       "      <td>zoeydecay</td>\n",
       "      <td>Bored watching Law and Order. Wanting sunday t...</td>\n",
       "    </tr>\n",
       "    <tr>\n",
       "      <th>2009-04-17 20:31:04</th>\n",
       "      <td>0</td>\n",
       "      <td>1548277792</td>\n",
       "      <td>NO_QUERY</td>\n",
       "      <td>leabella</td>\n",
       "      <td>Actually I had 503   maybe I should put my web...</td>\n",
       "    </tr>\n",
       "    <tr>\n",
       "      <th>2009-04-17 20:31:05</th>\n",
       "      <td>0</td>\n",
       "      <td>1548277960</td>\n",
       "      <td>NO_QUERY</td>\n",
       "      <td>AnitaKoch</td>\n",
       "      <td>@lkhalladay Colorado's a beautiful state, but ...</td>\n",
       "    </tr>\n",
       "  </tbody>\n",
       "</table>\n",
       "</div>"
      ],
      "text/plain": [
       "                     sentiment          id  NO_QUERY             user  \\\n",
       "date                                                                    \n",
       "2009-04-17 20:30:47          0  1548276360  NO_QUERY  customcanvasart   \n",
       "2009-04-17 20:30:54          0  1548276887  NO_QUERY     KuppyKakejEs   \n",
       "2009-04-17 20:30:55          0  1548276901  NO_QUERY        zoeydecay   \n",
       "2009-04-17 20:31:04          0  1548277792  NO_QUERY         leabella   \n",
       "2009-04-17 20:31:05          0  1548277960  NO_QUERY        AnitaKoch   \n",
       "\n",
       "                                                                 tweet  \n",
       "date                                                                    \n",
       "2009-04-17 20:30:47  @USEOFFORCEENT so sorry for your loss honey  I...  \n",
       "2009-04-17 20:30:54   Getting hair done tomorrow.Nawt exicted at all.   \n",
       "2009-04-17 20:30:55  Bored watching Law and Order. Wanting sunday t...  \n",
       "2009-04-17 20:31:04  Actually I had 503   maybe I should put my web...  \n",
       "2009-04-17 20:31:05  @lkhalladay Colorado's a beautiful state, but ...  "
      ]
     },
     "execution_count": 396,
     "metadata": {},
     "output_type": "execute_result"
    }
   ],
   "source": [
    "# Q1\n",
    "# TODO: Convert the `date` column into a datetime data-type\n",
    "\n",
    "df[\"date\"] = pd.to_datetime(df[\"date\"])\n",
    "\n",
    "df.set_index('date', inplace=True)\n",
    "\n",
    "df.head()"
   ]
  },
  {
   "cell_type": "code",
   "execution_count": 397,
   "metadata": {},
   "outputs": [],
   "source": [
    "# Q2\n",
    "# TODO: Resample according to 1-day and calculate the mean sentiment of each day\n",
    "\n",
    "# df.resample(\"1D\")[\"sentiment\"].mean().plot()\n",
    "\n",
    "daily_sentiment = df.resample(\"1D\")[\"sentiment\"].mean()\n",
    "\n",
    "daily_sentiment.to_csv(\"daily_sentiment.csv\")"
   ]
  },
  {
   "cell_type": "code",
   "execution_count": 398,
   "metadata": {},
   "outputs": [
    {
     "data": {
      "text/plain": [
       "<Axes: xlabel='date'>"
      ]
     },
     "execution_count": 398,
     "metadata": {},
     "output_type": "execute_result"
    },
    {
     "data": {
      "image/png": "[encoded data removed]",
      "text/plain": [
       "<Figure size 640x480 with 1 Axes>"
      ]
     },
     "metadata": {},
     "output_type": "display_data"
    }
   ],
   "source": [
    "weekly_sentiment = df.resample(\"1W\")[\"sentiment\"].mean()\n",
    "\n",
    "weekly_sentiment.plot()"
   ]
  },
  {
   "cell_type": "code",
   "execution_count": 399,
   "metadata": {},
   "outputs": [
    {
     "data": {
      "text/plain": [
       "Ellipsis"
      ]
     },
     "execution_count": 399,
     "metadata": {},
     "output_type": "execute_result"
    }
   ],
   "source": [
    "# Q3\n",
    "# TODO: Resample according to a rolling window of 3-days and calculate the mean sentiment of period\n",
    "\n",
    "..."
   ]
  }
 ],
 "metadata": {
  "kernelspec": {
   "display_name": "base",
   "language": "python",
   "name": "python3"
  },
  "language_info": {
   "codemirror_mode": {
    "name": "ipython",
    "version": 3
   },
   "file_extension": ".py",
   "mimetype": "text/x-python",
   "name": "python",
   "nbconvert_exporter": "python",
   "pygments_lexer": "ipython3",
   "version": "3.12.4"
  }
 },
 "nbformat": 4,
 "nbformat_minor": 2
}
