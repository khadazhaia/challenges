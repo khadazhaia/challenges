{
 "cells": [
  {
   "cell_type": "markdown",
   "metadata": {},
   "source": [
    "# Data Exploration Code-Along\n",
    "\n",
    "Implement the code-blocks below in order to explore some common data-exploration techniques. We will be using the `realestate.csv` file."
   ]
  },
  {
   "cell_type": "code",
   "execution_count": 1,
   "metadata": {},
   "outputs": [
    {
     "ename": "KeyboardInterrupt",
     "evalue": "",
     "output_type": "error",
     "traceback": [
      "\u001b[0;31m---------------------------------------------------------------------------\u001b[0m",
      "\u001b[0;31mKeyboardInterrupt\u001b[0m                         Traceback (most recent call last)",
      "Cell \u001b[0;32mIn[1], line 5\u001b[0m\n\u001b[1;32m      2\u001b[0m \u001b[38;5;28;01mimport\u001b[39;00m \u001b[38;5;21;01mnumpy\u001b[39;00m \u001b[38;5;28;01mas\u001b[39;00m \u001b[38;5;21;01mnp\u001b[39;00m\n\u001b[1;32m      4\u001b[0m \u001b[38;5;28;01mimport\u001b[39;00m \u001b[38;5;21;01mmatplotlib\u001b[39;00m\u001b[38;5;21;01m.\u001b[39;00m\u001b[38;5;21;01mpyplot\u001b[39;00m \u001b[38;5;28;01mas\u001b[39;00m \u001b[38;5;21;01mplt\u001b[39;00m\n\u001b[0;32m----> 5\u001b[0m \u001b[38;5;28;01mimport\u001b[39;00m \u001b[38;5;21;01mseaborn\u001b[39;00m \u001b[38;5;28;01mas\u001b[39;00m \u001b[38;5;21;01msns\u001b[39;00m\n",
      "File \u001b[0;32m/opt/anaconda3/lib/python3.12/site-packages/seaborn/__init__.py:5\u001b[0m\n\u001b[1;32m      3\u001b[0m \u001b[38;5;28;01mfrom\u001b[39;00m \u001b[38;5;21;01m.\u001b[39;00m\u001b[38;5;21;01mutils\u001b[39;00m \u001b[38;5;28;01mimport\u001b[39;00m \u001b[38;5;241m*\u001b[39m  \u001b[38;5;66;03m# noqa: F401,F403\u001b[39;00m\n\u001b[1;32m      4\u001b[0m \u001b[38;5;28;01mfrom\u001b[39;00m \u001b[38;5;21;01m.\u001b[39;00m\u001b[38;5;21;01mpalettes\u001b[39;00m \u001b[38;5;28;01mimport\u001b[39;00m \u001b[38;5;241m*\u001b[39m  \u001b[38;5;66;03m# noqa: F401,F403\u001b[39;00m\n\u001b[0;32m----> 5\u001b[0m \u001b[38;5;28;01mfrom\u001b[39;00m \u001b[38;5;21;01m.\u001b[39;00m\u001b[38;5;21;01mrelational\u001b[39;00m \u001b[38;5;28;01mimport\u001b[39;00m \u001b[38;5;241m*\u001b[39m  \u001b[38;5;66;03m# noqa: F401,F403\u001b[39;00m\n\u001b[1;32m      6\u001b[0m \u001b[38;5;28;01mfrom\u001b[39;00m \u001b[38;5;21;01m.\u001b[39;00m\u001b[38;5;21;01mregression\u001b[39;00m \u001b[38;5;28;01mimport\u001b[39;00m \u001b[38;5;241m*\u001b[39m  \u001b[38;5;66;03m# noqa: F401,F403\u001b[39;00m\n\u001b[1;32m      7\u001b[0m \u001b[38;5;28;01mfrom\u001b[39;00m \u001b[38;5;21;01m.\u001b[39;00m\u001b[38;5;21;01mcategorical\u001b[39;00m \u001b[38;5;28;01mimport\u001b[39;00m \u001b[38;5;241m*\u001b[39m  \u001b[38;5;66;03m# noqa: F401,F403\u001b[39;00m\n",
      "File \u001b[0;32m/opt/anaconda3/lib/python3.12/site-packages/seaborn/relational.py:21\u001b[0m\n\u001b[1;32m     13\u001b[0m \u001b[38;5;28;01mfrom\u001b[39;00m \u001b[38;5;21;01m.\u001b[39;00m\u001b[38;5;21;01mutils\u001b[39;00m \u001b[38;5;28;01mimport\u001b[39;00m (\n\u001b[1;32m     14\u001b[0m     adjust_legend_subtitles,\n\u001b[1;32m     15\u001b[0m     _default_color,\n\u001b[0;32m   (...)\u001b[0m\n\u001b[1;32m     18\u001b[0m     _scatter_legend_artist,\n\u001b[1;32m     19\u001b[0m )\n\u001b[1;32m     20\u001b[0m \u001b[38;5;28;01mfrom\u001b[39;00m \u001b[38;5;21;01m.\u001b[39;00m\u001b[38;5;21;01m_compat\u001b[39;00m \u001b[38;5;28;01mimport\u001b[39;00m groupby_apply_include_groups\n\u001b[0;32m---> 21\u001b[0m \u001b[38;5;28;01mfrom\u001b[39;00m \u001b[38;5;21;01m.\u001b[39;00m\u001b[38;5;21;01m_statistics\u001b[39;00m \u001b[38;5;28;01mimport\u001b[39;00m EstimateAggregator, WeightedAggregator\n\u001b[1;32m     22\u001b[0m \u001b[38;5;28;01mfrom\u001b[39;00m \u001b[38;5;21;01m.\u001b[39;00m\u001b[38;5;21;01maxisgrid\u001b[39;00m \u001b[38;5;28;01mimport\u001b[39;00m FacetGrid, _facet_docs\n\u001b[1;32m     23\u001b[0m \u001b[38;5;28;01mfrom\u001b[39;00m \u001b[38;5;21;01m.\u001b[39;00m\u001b[38;5;21;01m_docstrings\u001b[39;00m \u001b[38;5;28;01mimport\u001b[39;00m DocstringComponents, _core_docs\n",
      "File \u001b[0;32m/opt/anaconda3/lib/python3.12/site-packages/seaborn/_statistics.py:32\u001b[0m\n\u001b[1;32m     30\u001b[0m \u001b[38;5;28;01mimport\u001b[39;00m \u001b[38;5;21;01mpandas\u001b[39;00m \u001b[38;5;28;01mas\u001b[39;00m \u001b[38;5;21;01mpd\u001b[39;00m\n\u001b[1;32m     31\u001b[0m \u001b[38;5;28;01mtry\u001b[39;00m:\n\u001b[0;32m---> 32\u001b[0m     \u001b[38;5;28;01mfrom\u001b[39;00m \u001b[38;5;21;01mscipy\u001b[39;00m\u001b[38;5;21;01m.\u001b[39;00m\u001b[38;5;21;01mstats\u001b[39;00m \u001b[38;5;28;01mimport\u001b[39;00m gaussian_kde\n\u001b[1;32m     33\u001b[0m     _no_scipy \u001b[38;5;241m=\u001b[39m \u001b[38;5;28;01mFalse\u001b[39;00m\n\u001b[1;32m     34\u001b[0m \u001b[38;5;28;01mexcept\u001b[39;00m \u001b[38;5;167;01mImportError\u001b[39;00m:\n",
      "File \u001b[0;32m/opt/anaconda3/lib/python3.12/site-packages/scipy/stats/__init__.py:606\u001b[0m\n\u001b[1;32m      1\u001b[0m \u001b[38;5;124;03m\"\"\"\u001b[39;00m\n\u001b[1;32m      2\u001b[0m \u001b[38;5;124;03m.. _statsrefmanual:\u001b[39;00m\n\u001b[1;32m      3\u001b[0m \n\u001b[0;32m   (...)\u001b[0m\n\u001b[1;32m    601\u001b[0m \n\u001b[1;32m    602\u001b[0m \u001b[38;5;124;03m\"\"\"\u001b[39;00m  \u001b[38;5;66;03m# noqa: E501\u001b[39;00m\n\u001b[1;32m    604\u001b[0m \u001b[38;5;28;01mfrom\u001b[39;00m \u001b[38;5;21;01m.\u001b[39;00m\u001b[38;5;21;01m_warnings_errors\u001b[39;00m \u001b[38;5;28;01mimport\u001b[39;00m (ConstantInputWarning, NearConstantInputWarning,\n\u001b[1;32m    605\u001b[0m                                DegenerateDataWarning, FitError)\n\u001b[0;32m--> 606\u001b[0m \u001b[38;5;28;01mfrom\u001b[39;00m \u001b[38;5;21;01m.\u001b[39;00m\u001b[38;5;21;01m_stats_py\u001b[39;00m \u001b[38;5;28;01mimport\u001b[39;00m \u001b[38;5;241m*\u001b[39m\n\u001b[1;32m    607\u001b[0m \u001b[38;5;28;01mfrom\u001b[39;00m \u001b[38;5;21;01m.\u001b[39;00m\u001b[38;5;21;01m_variation\u001b[39;00m \u001b[38;5;28;01mimport\u001b[39;00m variation\n\u001b[1;32m    608\u001b[0m \u001b[38;5;28;01mfrom\u001b[39;00m \u001b[38;5;21;01m.\u001b[39;00m\u001b[38;5;21;01mdistributions\u001b[39;00m \u001b[38;5;28;01mimport\u001b[39;00m \u001b[38;5;241m*\u001b[39m\n",
      "File \u001b[0;32m/opt/anaconda3/lib/python3.12/site-packages/scipy/stats/_stats_py.py:41\u001b[0m\n\u001b[1;32m     38\u001b[0m \u001b[38;5;28;01mfrom\u001b[39;00m \u001b[38;5;21;01mscipy\u001b[39;00m\u001b[38;5;21;01m.\u001b[39;00m\u001b[38;5;21;01mspatial\u001b[39;00m\u001b[38;5;21;01m.\u001b[39;00m\u001b[38;5;21;01mdistance\u001b[39;00m \u001b[38;5;28;01mimport\u001b[39;00m cdist\n\u001b[1;32m     39\u001b[0m \u001b[38;5;28;01mfrom\u001b[39;00m \u001b[38;5;21;01mscipy\u001b[39;00m\u001b[38;5;21;01m.\u001b[39;00m\u001b[38;5;21;01mspatial\u001b[39;00m \u001b[38;5;28;01mimport\u001b[39;00m distance_matrix\n\u001b[0;32m---> 41\u001b[0m \u001b[38;5;28;01mfrom\u001b[39;00m \u001b[38;5;21;01mscipy\u001b[39;00m\u001b[38;5;21;01m.\u001b[39;00m\u001b[38;5;21;01mndimage\u001b[39;00m \u001b[38;5;28;01mimport\u001b[39;00m _measurements\n\u001b[1;32m     42\u001b[0m \u001b[38;5;28;01mfrom\u001b[39;00m \u001b[38;5;21;01mscipy\u001b[39;00m\u001b[38;5;21;01m.\u001b[39;00m\u001b[38;5;21;01moptimize\u001b[39;00m \u001b[38;5;28;01mimport\u001b[39;00m milp, LinearConstraint\n\u001b[1;32m     43\u001b[0m \u001b[38;5;28;01mfrom\u001b[39;00m \u001b[38;5;21;01mscipy\u001b[39;00m\u001b[38;5;21;01m.\u001b[39;00m\u001b[38;5;21;01m_lib\u001b[39;00m\u001b[38;5;21;01m.\u001b[39;00m\u001b[38;5;21;01m_util\u001b[39;00m \u001b[38;5;28;01mimport\u001b[39;00m (check_random_state, MapWrapper, _get_nan,\n\u001b[1;32m     44\u001b[0m                               rng_integers, _rename_parameter, _contains_nan,\n\u001b[1;32m     45\u001b[0m                               AxisError)\n",
      "File \u001b[0;32m/opt/anaconda3/lib/python3.12/site-packages/scipy/ndimage/__init__.py:155\u001b[0m\n\u001b[1;32m    153\u001b[0m \u001b[38;5;28;01mfrom\u001b[39;00m \u001b[38;5;21;01m.\u001b[39;00m\u001b[38;5;21;01m_fourier\u001b[39;00m \u001b[38;5;28;01mimport\u001b[39;00m \u001b[38;5;241m*\u001b[39m\n\u001b[1;32m    154\u001b[0m \u001b[38;5;28;01mfrom\u001b[39;00m \u001b[38;5;21;01m.\u001b[39;00m\u001b[38;5;21;01m_interpolation\u001b[39;00m \u001b[38;5;28;01mimport\u001b[39;00m \u001b[38;5;241m*\u001b[39m\n\u001b[0;32m--> 155\u001b[0m \u001b[38;5;28;01mfrom\u001b[39;00m \u001b[38;5;21;01m.\u001b[39;00m\u001b[38;5;21;01m_measurements\u001b[39;00m \u001b[38;5;28;01mimport\u001b[39;00m \u001b[38;5;241m*\u001b[39m\n\u001b[1;32m    156\u001b[0m \u001b[38;5;28;01mfrom\u001b[39;00m \u001b[38;5;21;01m.\u001b[39;00m\u001b[38;5;21;01m_morphology\u001b[39;00m \u001b[38;5;28;01mimport\u001b[39;00m \u001b[38;5;241m*\u001b[39m\n\u001b[1;32m    158\u001b[0m \u001b[38;5;66;03m# Deprecated namespaces, to be removed in v2.0.0\u001b[39;00m\n",
      "File \u001b[0;32m/opt/anaconda3/lib/python3.12/site-packages/scipy/ndimage/_measurements.py:34\u001b[0m\n\u001b[1;32m     32\u001b[0m \u001b[38;5;28;01mimport\u001b[39;00m \u001b[38;5;21;01mnumpy\u001b[39;00m \u001b[38;5;28;01mas\u001b[39;00m \u001b[38;5;21;01mnp\u001b[39;00m\n\u001b[1;32m     33\u001b[0m \u001b[38;5;28;01mfrom\u001b[39;00m \u001b[38;5;21;01m.\u001b[39;00m \u001b[38;5;28;01mimport\u001b[39;00m _ni_support\n\u001b[0;32m---> 34\u001b[0m \u001b[38;5;28;01mfrom\u001b[39;00m \u001b[38;5;21;01m.\u001b[39;00m \u001b[38;5;28;01mimport\u001b[39;00m _ni_label\n\u001b[1;32m     35\u001b[0m \u001b[38;5;28;01mfrom\u001b[39;00m \u001b[38;5;21;01m.\u001b[39;00m \u001b[38;5;28;01mimport\u001b[39;00m _nd_image\n\u001b[1;32m     36\u001b[0m \u001b[38;5;28;01mfrom\u001b[39;00m \u001b[38;5;21;01m.\u001b[39;00m \u001b[38;5;28;01mimport\u001b[39;00m _morphology\n",
      "File \u001b[0;32m<frozen importlib._bootstrap>:645\u001b[0m, in \u001b[0;36mparent\u001b[0;34m(self)\u001b[0m\n",
      "\u001b[0;31mKeyboardInterrupt\u001b[0m: "
     ]
    }
   ],
   "source": [
    "import pandas as pd\n",
    "import numpy as np\n",
    "\n",
    "import matplotlib.pyplot as plt\n",
    "import seaborn as sns"
   ]
  },
  {
   "cell_type": "code",
   "execution_count": 2,
   "metadata": {},
   "outputs": [],
   "source": [
    "# TODO: Load in your data from `../../data/realestate.csv`\n",
    "\n",
    "df = pd.read_csv(\"realestate.csv\")"
   ]
  },
  {
   "cell_type": "code",
   "execution_count": 3,
   "metadata": {},
   "outputs": [
    {
     "data": {
      "text/html": [
       "<div>\n",
       "<style scoped>\n",
       "    .dataframe tbody tr th:only-of-type {\n",
       "        vertical-align: middle;\n",
       "    }\n",
       "\n",
       "    .dataframe tbody tr th {\n",
       "        vertical-align: top;\n",
       "    }\n",
       "\n",
       "    .dataframe thead th {\n",
       "        text-align: right;\n",
       "    }\n",
       "</style>\n",
       "<table border=\"1\" class=\"dataframe\">\n",
       "  <thead>\n",
       "    <tr style=\"text-align: right;\">\n",
       "      <th></th>\n",
       "      <th>house age</th>\n",
       "      <th>distance_to_mrt</th>\n",
       "      <th>num_convenience_stores</th>\n",
       "      <th>price_per_unit_area</th>\n",
       "      <th>num_of_rooms</th>\n",
       "      <th>pet_friendly</th>\n",
       "    </tr>\n",
       "  </thead>\n",
       "  <tbody>\n",
       "    <tr>\n",
       "      <th>0</th>\n",
       "      <td>19.5</td>\n",
       "      <td>306.5947</td>\n",
       "      <td>9.0</td>\n",
       "      <td>42.2</td>\n",
       "      <td>2</td>\n",
       "      <td>No</td>\n",
       "    </tr>\n",
       "    <tr>\n",
       "      <th>1</th>\n",
       "      <td>13.3</td>\n",
       "      <td>561.9845</td>\n",
       "      <td>5.0</td>\n",
       "      <td>47.3</td>\n",
       "      <td>2</td>\n",
       "      <td>No</td>\n",
       "    </tr>\n",
       "    <tr>\n",
       "      <th>2</th>\n",
       "      <td>13.3</td>\n",
       "      <td>561.9845</td>\n",
       "      <td>5.0</td>\n",
       "      <td>54.8</td>\n",
       "      <td>4</td>\n",
       "      <td>No</td>\n",
       "    </tr>\n",
       "    <tr>\n",
       "      <th>3</th>\n",
       "      <td>5.0</td>\n",
       "      <td>390.5684</td>\n",
       "      <td>5.0</td>\n",
       "      <td>43.1</td>\n",
       "      <td>3</td>\n",
       "      <td>No</td>\n",
       "    </tr>\n",
       "    <tr>\n",
       "      <th>4</th>\n",
       "      <td>7.1</td>\n",
       "      <td>2175.0300</td>\n",
       "      <td>3.0</td>\n",
       "      <td>32.1</td>\n",
       "      <td>3</td>\n",
       "      <td>Yes</td>\n",
       "    </tr>\n",
       "  </tbody>\n",
       "</table>\n",
       "</div>"
      ],
      "text/plain": [
       "   house age  distance_to_mrt  num_convenience_stores  price_per_unit_area  \\\n",
       "0       19.5         306.5947                     9.0                 42.2   \n",
       "1       13.3         561.9845                     5.0                 47.3   \n",
       "2       13.3         561.9845                     5.0                 54.8   \n",
       "3        5.0         390.5684                     5.0                 43.1   \n",
       "4        7.1        2175.0300                     3.0                 32.1   \n",
       "\n",
       "   num_of_rooms pet_friendly  \n",
       "0             2           No  \n",
       "1             2           No  \n",
       "2             4           No  \n",
       "3             3           No  \n",
       "4             3          Yes  "
      ]
     },
     "execution_count": 3,
     "metadata": {},
     "output_type": "execute_result"
    }
   ],
   "source": [
    "# TODO: Observe first 5 rows\n",
    "\n",
    "df.head()"
   ]
  },
  {
   "cell_type": "code",
   "execution_count": 5,
   "metadata": {},
   "outputs": [
    {
     "name": "stdout",
     "output_type": "stream",
     "text": [
      "<class 'pandas.core.frame.DataFrame'>\n",
      "RangeIndex: 334 entries, 0 to 333\n",
      "Data columns (total 6 columns):\n",
      " #   Column                  Non-Null Count  Dtype  \n",
      "---  ------                  --------------  -----  \n",
      " 0   house age               334 non-null    float64\n",
      " 1   distance_to_mrt         334 non-null    float64\n",
      " 2   num_convenience_stores  334 non-null    float64\n",
      " 3   price_per_unit_area     334 non-null    float64\n",
      " 4   num_of_rooms            334 non-null    int64  \n",
      " 5   pet_friendly            334 non-null    object \n",
      "dtypes: float64(4), int64(1), object(1)\n",
      "memory usage: 15.8+ KB\n"
     ]
    }
   ],
   "source": [
    "# Gives info on data set\n",
    "\n",
    "df.info()"
   ]
  },
  {
   "cell_type": "code",
   "execution_count": 7,
   "metadata": {},
   "outputs": [
    {
     "data": {
      "text/plain": [
       "house age                 0\n",
       "distance_to_mrt           0\n",
       "num_convenience_stores    0\n",
       "price_per_unit_area       0\n",
       "num_of_rooms              0\n",
       "pet_friendly              0\n",
       "dtype: int64"
      ]
     },
     "execution_count": 7,
     "metadata": {},
     "output_type": "execute_result"
    }
   ],
   "source": [
    "# Check if theres null values \n",
    "\n",
    "df.isna()\n",
    "\n",
    "# Add up all the null values\n",
    "\n",
    "df.isna().sum()"
   ]
  },
  {
   "cell_type": "code",
   "execution_count": 8,
   "metadata": {},
   "outputs": [
    {
     "data": {
      "text/plain": [
       "0       306.59470\n",
       "1       561.98450\n",
       "2       561.98450\n",
       "3       390.56840\n",
       "4      2175.03000\n",
       "          ...    \n",
       "329     372.13860\n",
       "330      90.45606\n",
       "331     390.96960\n",
       "332     104.81010\n",
       "333      90.45606\n",
       "Name: distance_to_mrt, Length: 334, dtype: float64"
      ]
     },
     "execution_count": 8,
     "metadata": {},
     "output_type": "execute_result"
    }
   ],
   "source": [
    "# row & column\n",
    "df.loc[:, 'distance_to_mrt']"
   ]
  },
  {
   "cell_type": "code",
   "execution_count": 10,
   "metadata": {},
   "outputs": [
    {
     "data": {
      "text/plain": [
       "0       306.59470\n",
       "1       561.98450\n",
       "2       561.98450\n",
       "3       390.56840\n",
       "4      2175.03000\n",
       "          ...    \n",
       "329     372.13860\n",
       "330      90.45606\n",
       "331     390.96960\n",
       "332     104.81010\n",
       "333      90.45606\n",
       "Name: distance_to_mrt, Length: 334, dtype: float64"
      ]
     },
     "execution_count": 10,
     "metadata": {},
     "output_type": "execute_result"
    }
   ],
   "source": [
    "df.iloc[:, 1]"
   ]
  },
  {
   "cell_type": "code",
   "execution_count": 4,
   "metadata": {},
   "outputs": [
    {
     "data": {
      "text/html": [
       "<div>\n",
       "<style scoped>\n",
       "    .dataframe tbody tr th:only-of-type {\n",
       "        vertical-align: middle;\n",
       "    }\n",
       "\n",
       "    .dataframe tbody tr th {\n",
       "        vertical-align: top;\n",
       "    }\n",
       "\n",
       "    .dataframe thead th {\n",
       "        text-align: right;\n",
       "    }\n",
       "</style>\n",
       "<table border=\"1\" class=\"dataframe\">\n",
       "  <thead>\n",
       "    <tr style=\"text-align: right;\">\n",
       "      <th></th>\n",
       "      <th>house age</th>\n",
       "      <th>distance_to_mrt</th>\n",
       "      <th>num_convenience_stores</th>\n",
       "      <th>price_per_unit_area</th>\n",
       "      <th>num_of_rooms</th>\n",
       "    </tr>\n",
       "  </thead>\n",
       "  <tbody>\n",
       "    <tr>\n",
       "      <th>count</th>\n",
       "      <td>334.000000</td>\n",
       "      <td>334.000000</td>\n",
       "      <td>334.000000</td>\n",
       "      <td>334.000000</td>\n",
       "      <td>334.000000</td>\n",
       "    </tr>\n",
       "    <tr>\n",
       "      <th>mean</th>\n",
       "      <td>17.533234</td>\n",
       "      <td>812.824629</td>\n",
       "      <td>4.880240</td>\n",
       "      <td>40.295509</td>\n",
       "      <td>2.814371</td>\n",
       "    </tr>\n",
       "    <tr>\n",
       "      <th>std</th>\n",
       "      <td>11.775630</td>\n",
       "      <td>984.274974</td>\n",
       "      <td>2.552282</td>\n",
       "      <td>12.756827</td>\n",
       "      <td>1.513196</td>\n",
       "    </tr>\n",
       "    <tr>\n",
       "      <th>min</th>\n",
       "      <td>0.000000</td>\n",
       "      <td>23.382840</td>\n",
       "      <td>1.000000</td>\n",
       "      <td>7.600000</td>\n",
       "      <td>1.000000</td>\n",
       "    </tr>\n",
       "    <tr>\n",
       "      <th>25%</th>\n",
       "      <td>7.800000</td>\n",
       "      <td>279.172600</td>\n",
       "      <td>3.000000</td>\n",
       "      <td>31.100000</td>\n",
       "      <td>1.250000</td>\n",
       "    </tr>\n",
       "    <tr>\n",
       "      <th>50%</th>\n",
       "      <td>15.600000</td>\n",
       "      <td>443.967700</td>\n",
       "      <td>5.000000</td>\n",
       "      <td>40.300000</td>\n",
       "      <td>3.000000</td>\n",
       "    </tr>\n",
       "    <tr>\n",
       "      <th>75%</th>\n",
       "      <td>29.250000</td>\n",
       "      <td>967.400000</td>\n",
       "      <td>7.000000</td>\n",
       "      <td>47.850000</td>\n",
       "      <td>4.000000</td>\n",
       "    </tr>\n",
       "    <tr>\n",
       "      <th>max</th>\n",
       "      <td>43.800000</td>\n",
       "      <td>6488.021000</td>\n",
       "      <td>10.000000</td>\n",
       "      <td>117.500000</td>\n",
       "      <td>6.000000</td>\n",
       "    </tr>\n",
       "  </tbody>\n",
       "</table>\n",
       "</div>"
      ],
      "text/plain": [
       "        house age  distance_to_mrt  num_convenience_stores  \\\n",
       "count  334.000000       334.000000              334.000000   \n",
       "mean    17.533234       812.824629                4.880240   \n",
       "std     11.775630       984.274974                2.552282   \n",
       "min      0.000000        23.382840                1.000000   \n",
       "25%      7.800000       279.172600                3.000000   \n",
       "50%     15.600000       443.967700                5.000000   \n",
       "75%     29.250000       967.400000                7.000000   \n",
       "max     43.800000      6488.021000               10.000000   \n",
       "\n",
       "       price_per_unit_area  num_of_rooms  \n",
       "count           334.000000    334.000000  \n",
       "mean             40.295509      2.814371  \n",
       "std              12.756827      1.513196  \n",
       "min               7.600000      1.000000  \n",
       "25%              31.100000      1.250000  \n",
       "50%              40.300000      3.000000  \n",
       "75%              47.850000      4.000000  \n",
       "max             117.500000      6.000000  "
      ]
     },
     "execution_count": 4,
     "metadata": {},
     "output_type": "execute_result"
    }
   ],
   "source": [
    "# TODO: describe tukey's numbers\n",
    "\n",
    "df.describe()"
   ]
  },
  {
   "cell_type": "code",
   "execution_count": null,
   "metadata": {},
   "outputs": [],
   "source": [
    "# TODO: count the frequency of unique values in the \"num_of_rooms\" column, save this value into a new dataframe named \"room_counts\"\n",
    "# Documentation: https://pandas.pydata.org/docs/reference/api/pandas.DataFrame.value_counts.html\n",
    "\n",
    "room_counts = df.value_counts(\"num_of_rooms\")\n",
    "room_counts"
   ]
  },
  {
   "cell_type": "code",
   "execution_count": null,
   "metadata": {},
   "outputs": [],
   "source": [
    "# Will drop null values\n",
    "\n",
    "df_dropped = df.dropna()\n",
    "\n",
    "# This will check if we really dropped vaules\n",
    "df_dropped.isna().sum()"
   ]
  },
  {
   "cell_type": "code",
   "execution_count": null,
   "metadata": {},
   "outputs": [],
   "source": [
    "# Don't save to variable, isna.sum will return to a none type, this really limits you\n",
    "\n",
    "df.dropna(inplace=True)"
   ]
  },
  {
   "cell_type": "markdown",
   "metadata": {},
   "source": [
    "# Basic Pandas \n",
    "\n",
    "Let's tackle questions 1-5 as a group (co-coding). We will call on you randomly to solve these programming problems. Think of this as an equivalent of programming interview questions."
   ]
  },
  {
   "cell_type": "code",
   "execution_count": 5,
   "metadata": {},
   "outputs": [],
   "source": [
    "import pandas as pd\n",
    "import numpy as np\n",
    "\n",
    "data = {\n",
    "    \"type\": [\"Robusta\", \"Arabica\", \"Robusta\", \"Arabica\", \"Arabica\"],\n",
    "    \"amount_kg\": [10, 100, 20, 50, 80],\n",
    "    \"destination\": [\"US\", \"US\", \"JP\", \"DE\", \"US\"],\n",
    "    \"unit_price\": [3.264, 4.473, 3.293, 4.573, 4.473]\n",
    "}\n",
    "\n",
    "df = pd.DataFrame(data)"
   ]
  },
  {
   "cell_type": "code",
   "execution_count": 18,
   "metadata": {},
   "outputs": [
    {
     "data": {
      "text/html": [
       "<div>\n",
       "<style scoped>\n",
       "    .dataframe tbody tr th:only-of-type {\n",
       "        vertical-align: middle;\n",
       "    }\n",
       "\n",
       "    .dataframe tbody tr th {\n",
       "        vertical-align: top;\n",
       "    }\n",
       "\n",
       "    .dataframe thead th {\n",
       "        text-align: right;\n",
       "    }\n",
       "</style>\n",
       "<table border=\"1\" class=\"dataframe\">\n",
       "  <thead>\n",
       "    <tr style=\"text-align: right;\">\n",
       "      <th></th>\n",
       "      <th>sentiment</th>\n",
       "      <th>id</th>\n",
       "      <th>NO_QUERY</th>\n",
       "      <th>user</th>\n",
       "      <th>tweet</th>\n",
       "    </tr>\n",
       "    <tr>\n",
       "      <th>date</th>\n",
       "      <th></th>\n",
       "      <th></th>\n",
       "      <th></th>\n",
       "      <th></th>\n",
       "      <th></th>\n",
       "    </tr>\n",
       "  </thead>\n",
       "  <tbody>\n",
       "    <tr>\n",
       "      <th>2009-04-17 20:30:47</th>\n",
       "      <td>0</td>\n",
       "      <td>1548276360</td>\n",
       "      <td>NO_QUERY</td>\n",
       "      <td>customcanvasart</td>\n",
       "      <td>@USEOFFORCEENT so sorry for your loss honey  I...</td>\n",
       "    </tr>\n",
       "    <tr>\n",
       "      <th>2009-04-17 20:30:54</th>\n",
       "      <td>0</td>\n",
       "      <td>1548276887</td>\n",
       "      <td>NO_QUERY</td>\n",
       "      <td>KuppyKakejEs</td>\n",
       "      <td>Getting hair done tomorrow.Nawt exicted at all.</td>\n",
       "    </tr>\n",
       "    <tr>\n",
       "      <th>2009-04-17 20:30:55</th>\n",
       "      <td>0</td>\n",
       "      <td>1548276901</td>\n",
       "      <td>NO_QUERY</td>\n",
       "      <td>zoeydecay</td>\n",
       "      <td>Bored watching Law and Order. Wanting sunday t...</td>\n",
       "    </tr>\n",
       "    <tr>\n",
       "      <th>2009-04-17 20:31:04</th>\n",
       "      <td>0</td>\n",
       "      <td>1548277792</td>\n",
       "      <td>NO_QUERY</td>\n",
       "      <td>leabella</td>\n",
       "      <td>Actually I had 503   maybe I should put my web...</td>\n",
       "    </tr>\n",
       "    <tr>\n",
       "      <th>2009-04-17 20:31:05</th>\n",
       "      <td>0</td>\n",
       "      <td>1548277960</td>\n",
       "      <td>NO_QUERY</td>\n",
       "      <td>AnitaKoch</td>\n",
       "      <td>@lkhalladay Colorado's a beautiful state, but ...</td>\n",
       "    </tr>\n",
       "    <tr>\n",
       "      <th>...</th>\n",
       "      <td>...</td>\n",
       "      <td>...</td>\n",
       "      <td>...</td>\n",
       "      <td>...</td>\n",
       "      <td>...</td>\n",
       "    </tr>\n",
       "    <tr>\n",
       "      <th>2009-05-27 07:27:23</th>\n",
       "      <td>1</td>\n",
       "      <td>1936100655</td>\n",
       "      <td>NO_QUERY</td>\n",
       "      <td>LindsBrooker</td>\n",
       "      <td>@j2s Michelle and I were just discussing how s...</td>\n",
       "    </tr>\n",
       "    <tr>\n",
       "      <th>2009-05-27 07:27:26</th>\n",
       "      <td>1</td>\n",
       "      <td>1936101135</td>\n",
       "      <td>NO_QUERY</td>\n",
       "      <td>Hooded</td>\n",
       "      <td>playing with the free app iDaft, great little ...</td>\n",
       "    </tr>\n",
       "    <tr>\n",
       "      <th>2009-05-27 07:27:26</th>\n",
       "      <td>0</td>\n",
       "      <td>1936101117</td>\n",
       "      <td>NO_QUERY</td>\n",
       "      <td>JaclynnAshley</td>\n",
       "      <td>@ArcherIsMyName ...he's at work...</td>\n",
       "    </tr>\n",
       "    <tr>\n",
       "      <th>2009-05-27 07:27:27</th>\n",
       "      <td>1</td>\n",
       "      <td>1936101413</td>\n",
       "      <td>NO_QUERY</td>\n",
       "      <td>bsankr</td>\n",
       "      <td>@fald happy birthday  ? http://blip.fm/~74l4e</td>\n",
       "    </tr>\n",
       "    <tr>\n",
       "      <th>2009-05-27 07:27:35</th>\n",
       "      <td>0</td>\n",
       "      <td>1936102676</td>\n",
       "      <td>NO_QUERY</td>\n",
       "      <td>chocoladetaart</td>\n",
       "      <td>@ether_radio Awh no, I'm sorry to hear that</td>\n",
       "    </tr>\n",
       "  </tbody>\n",
       "</table>\n",
       "<p>200000 rows × 5 columns</p>\n",
       "</div>"
      ],
      "text/plain": [
       "                     sentiment          id  NO_QUERY             user  \\\n",
       "date                                                                    \n",
       "2009-04-17 20:30:47          0  1548276360  NO_QUERY  customcanvasart   \n",
       "2009-04-17 20:30:54          0  1548276887  NO_QUERY     KuppyKakejEs   \n",
       "2009-04-17 20:30:55          0  1548276901  NO_QUERY        zoeydecay   \n",
       "2009-04-17 20:31:04          0  1548277792  NO_QUERY         leabella   \n",
       "2009-04-17 20:31:05          0  1548277960  NO_QUERY        AnitaKoch   \n",
       "...                        ...         ...       ...              ...   \n",
       "2009-05-27 07:27:23          1  1936100655  NO_QUERY     LindsBrooker   \n",
       "2009-05-27 07:27:26          1  1936101135  NO_QUERY           Hooded   \n",
       "2009-05-27 07:27:26          0  1936101117  NO_QUERY    JaclynnAshley   \n",
       "2009-05-27 07:27:27          1  1936101413  NO_QUERY           bsankr   \n",
       "2009-05-27 07:27:35          0  1936102676  NO_QUERY   chocoladetaart   \n",
       "\n",
       "                                                                 tweet  \n",
       "date                                                                    \n",
       "2009-04-17 20:30:47  @USEOFFORCEENT so sorry for your loss honey  I...  \n",
       "2009-04-17 20:30:54   Getting hair done tomorrow.Nawt exicted at all.   \n",
       "2009-04-17 20:30:55  Bored watching Law and Order. Wanting sunday t...  \n",
       "2009-04-17 20:31:04  Actually I had 503   maybe I should put my web...  \n",
       "2009-04-17 20:31:05  @lkhalladay Colorado's a beautiful state, but ...  \n",
       "...                                                                ...  \n",
       "2009-05-27 07:27:23  @j2s Michelle and I were just discussing how s...  \n",
       "2009-05-27 07:27:26  playing with the free app iDaft, great little ...  \n",
       "2009-05-27 07:27:26                @ArcherIsMyName ...he's at work...   \n",
       "2009-05-27 07:27:27      @fald happy birthday  ? http://blip.fm/~74l4e  \n",
       "2009-05-27 07:27:35       @ether_radio Awh no, I'm sorry to hear that   \n",
       "\n",
       "[200000 rows x 5 columns]"
      ]
     },
     "execution_count": 18,
     "metadata": {},
     "output_type": "execute_result"
    }
   ],
   "source": [
    "df"
   ]
  },
  {
   "cell_type": "code",
   "execution_count": 3,
   "metadata": {},
   "outputs": [],
   "source": [
    "df.to_csv(\"new.csv\", index=False)"
   ]
  },
  {
   "cell_type": "code",
   "execution_count": null,
   "metadata": {},
   "outputs": [],
   "source": [
    "# Q1\n",
    "# TODO: Use a pandas method on `df` to count the frequency of orders by countries in this dataset\n",
    "\n",
    "..."
   ]
  },
  {
   "cell_type": "code",
   "execution_count": 4,
   "metadata": {},
   "outputs": [
    {
     "data": {
      "text/plain": [
       "52.0"
      ]
     },
     "execution_count": 4,
     "metadata": {},
     "output_type": "execute_result"
    }
   ],
   "source": [
    "# Q2\n",
    "# TODO: Use a pandas method on `df` to calculate the mean amount_kg ordered\n",
    "\n",
    "df.loc[:, 'amount_kg'].mean()\n",
    "\n",
    "df[\"amount_kg\"].mean()"
   ]
  },
  {
   "cell_type": "code",
   "execution_count": null,
   "metadata": {},
   "outputs": [],
   "source": [
    "# Q3\n",
    "# TODO: Use a pandas method on `df` to calculate the median unit_price\n",
    "\n",
    "..."
   ]
  },
  {
   "cell_type": "markdown",
   "metadata": {},
   "source": [
    "# Split Apply Combine\n",
    "\n",
    "Questions 1-3 build off the previous code-blocks."
   ]
  },
  {
   "cell_type": "code",
   "execution_count": null,
   "metadata": {},
   "outputs": [],
   "source": [
    "# Q1\n",
    "# TODO: Calculate the mean unit_price for each destination\n",
    "\n",
    "..."
   ]
  },
  {
   "cell_type": "code",
   "execution_count": null,
   "metadata": {},
   "outputs": [],
   "source": [
    "# Q2\n",
    "# TODO: Calculate the mean amount_kg for each type\n",
    "\n",
    "..."
   ]
  },
  {
   "cell_type": "code",
   "execution_count": null,
   "metadata": {},
   "outputs": [],
   "source": [
    "# Q2\n",
    "# TODO: Calculate the mean unit_price for each destination & type\n",
    "\n",
    "..."
   ]
  },
  {
   "cell_type": "markdown",
   "metadata": {},
   "source": [
    "# Resampling\n",
    "\n",
    "We will tackle questions 1-3 as a group (co-coding). We will call on you randomly to solve these programming problems. Think of this as an equivalent of programming interview questions."
   ]
  },
  {
   "cell_type": "code",
   "execution_count": 10,
   "metadata": {},
   "outputs": [
    {
     "data": {
      "text/html": [
       "<div>\n",
       "<style scoped>\n",
       "    .dataframe tbody tr th:only-of-type {\n",
       "        vertical-align: middle;\n",
       "    }\n",
       "\n",
       "    .dataframe tbody tr th {\n",
       "        vertical-align: top;\n",
       "    }\n",
       "\n",
       "    .dataframe thead th {\n",
       "        text-align: right;\n",
       "    }\n",
       "</style>\n",
       "<table border=\"1\" class=\"dataframe\">\n",
       "  <thead>\n",
       "    <tr style=\"text-align: right;\">\n",
       "      <th></th>\n",
       "      <th>sentiment</th>\n",
       "      <th>id</th>\n",
       "      <th>date</th>\n",
       "      <th>NO_QUERY</th>\n",
       "      <th>user</th>\n",
       "      <th>tweet</th>\n",
       "    </tr>\n",
       "  </thead>\n",
       "  <tbody>\n",
       "    <tr>\n",
       "      <th>0</th>\n",
       "      <td>0</td>\n",
       "      <td>1548276360</td>\n",
       "      <td>Fri Apr 17 20:30:47 PDT 2009</td>\n",
       "      <td>NO_QUERY</td>\n",
       "      <td>customcanvasart</td>\n",
       "      <td>@USEOFFORCEENT so sorry for your loss honey  I...</td>\n",
       "    </tr>\n",
       "    <tr>\n",
       "      <th>1</th>\n",
       "      <td>0</td>\n",
       "      <td>1548276887</td>\n",
       "      <td>Fri Apr 17 20:30:54 PDT 2009</td>\n",
       "      <td>NO_QUERY</td>\n",
       "      <td>KuppyKakejEs</td>\n",
       "      <td>Getting hair done tomorrow.Nawt exicted at all.</td>\n",
       "    </tr>\n",
       "    <tr>\n",
       "      <th>2</th>\n",
       "      <td>0</td>\n",
       "      <td>1548276901</td>\n",
       "      <td>Fri Apr 17 20:30:55 PDT 2009</td>\n",
       "      <td>NO_QUERY</td>\n",
       "      <td>zoeydecay</td>\n",
       "      <td>Bored watching Law and Order. Wanting sunday t...</td>\n",
       "    </tr>\n",
       "    <tr>\n",
       "      <th>3</th>\n",
       "      <td>0</td>\n",
       "      <td>1548277792</td>\n",
       "      <td>Fri Apr 17 20:31:04 PDT 2009</td>\n",
       "      <td>NO_QUERY</td>\n",
       "      <td>leabella</td>\n",
       "      <td>Actually I had 503   maybe I should put my web...</td>\n",
       "    </tr>\n",
       "    <tr>\n",
       "      <th>4</th>\n",
       "      <td>0</td>\n",
       "      <td>1548277960</td>\n",
       "      <td>Fri Apr 17 20:31:05 PDT 2009</td>\n",
       "      <td>NO_QUERY</td>\n",
       "      <td>AnitaKoch</td>\n",
       "      <td>@lkhalladay Colorado's a beautiful state, but ...</td>\n",
       "    </tr>\n",
       "  </tbody>\n",
       "</table>\n",
       "</div>"
      ],
      "text/plain": [
       "   sentiment          id                          date  NO_QUERY  \\\n",
       "0          0  1548276360  Fri Apr 17 20:30:47 PDT 2009  NO_QUERY   \n",
       "1          0  1548276887  Fri Apr 17 20:30:54 PDT 2009  NO_QUERY   \n",
       "2          0  1548276901  Fri Apr 17 20:30:55 PDT 2009  NO_QUERY   \n",
       "3          0  1548277792  Fri Apr 17 20:31:04 PDT 2009  NO_QUERY   \n",
       "4          0  1548277960  Fri Apr 17 20:31:05 PDT 2009  NO_QUERY   \n",
       "\n",
       "              user                                              tweet  \n",
       "0  customcanvasart  @USEOFFORCEENT so sorry for your loss honey  I...  \n",
       "1     KuppyKakejEs   Getting hair done tomorrow.Nawt exicted at all.   \n",
       "2        zoeydecay  Bored watching Law and Order. Wanting sunday t...  \n",
       "3         leabella  Actually I had 503   maybe I should put my web...  \n",
       "4        AnitaKoch  @lkhalladay Colorado's a beautiful state, but ...  "
      ]
     },
     "execution_count": 10,
     "metadata": {},
     "output_type": "execute_result"
    }
   ],
   "source": [
    "df = pd.read_csv(\"tweets.csv\")\n",
    "df.head()"
   ]
  },
  {
   "cell_type": "code",
   "execution_count": 11,
   "metadata": {},
   "outputs": [
    {
     "name": "stderr",
     "output_type": "stream",
     "text": [
      "/var/folders/8s/6z8k89ls5219_662hzy190h80000gn/T/ipykernel_93759/1353756450.py:4: FutureWarning: Parsed string \"Fri Apr 17 20:30:47 PDT 2009\" included an un-recognized timezone \"PDT\". Dropping unrecognized timezones is deprecated; in a future version this will raise. Instead pass the string without the timezone, then use .tz_localize to convert to a recognized timezone.\n",
      "  df[\"date\"] = pd.to_datetime(df[\"date\"])\n"
     ]
    },
    {
     "data": {
      "text/html": [
       "<div>\n",
       "<style scoped>\n",
       "    .dataframe tbody tr th:only-of-type {\n",
       "        vertical-align: middle;\n",
       "    }\n",
       "\n",
       "    .dataframe tbody tr th {\n",
       "        vertical-align: top;\n",
       "    }\n",
       "\n",
       "    .dataframe thead th {\n",
       "        text-align: right;\n",
       "    }\n",
       "</style>\n",
       "<table border=\"1\" class=\"dataframe\">\n",
       "  <thead>\n",
       "    <tr style=\"text-align: right;\">\n",
       "      <th></th>\n",
       "      <th>sentiment</th>\n",
       "      <th>id</th>\n",
       "      <th>NO_QUERY</th>\n",
       "      <th>user</th>\n",
       "      <th>tweet</th>\n",
       "    </tr>\n",
       "    <tr>\n",
       "      <th>date</th>\n",
       "      <th></th>\n",
       "      <th></th>\n",
       "      <th></th>\n",
       "      <th></th>\n",
       "      <th></th>\n",
       "    </tr>\n",
       "  </thead>\n",
       "  <tbody>\n",
       "    <tr>\n",
       "      <th>2009-04-17 20:30:47</th>\n",
       "      <td>0</td>\n",
       "      <td>1548276360</td>\n",
       "      <td>NO_QUERY</td>\n",
       "      <td>customcanvasart</td>\n",
       "      <td>@USEOFFORCEENT so sorry for your loss honey  I...</td>\n",
       "    </tr>\n",
       "    <tr>\n",
       "      <th>2009-04-17 20:30:54</th>\n",
       "      <td>0</td>\n",
       "      <td>1548276887</td>\n",
       "      <td>NO_QUERY</td>\n",
       "      <td>KuppyKakejEs</td>\n",
       "      <td>Getting hair done tomorrow.Nawt exicted at all.</td>\n",
       "    </tr>\n",
       "    <tr>\n",
       "      <th>2009-04-17 20:30:55</th>\n",
       "      <td>0</td>\n",
       "      <td>1548276901</td>\n",
       "      <td>NO_QUERY</td>\n",
       "      <td>zoeydecay</td>\n",
       "      <td>Bored watching Law and Order. Wanting sunday t...</td>\n",
       "    </tr>\n",
       "    <tr>\n",
       "      <th>2009-04-17 20:31:04</th>\n",
       "      <td>0</td>\n",
       "      <td>1548277792</td>\n",
       "      <td>NO_QUERY</td>\n",
       "      <td>leabella</td>\n",
       "      <td>Actually I had 503   maybe I should put my web...</td>\n",
       "    </tr>\n",
       "    <tr>\n",
       "      <th>2009-04-17 20:31:05</th>\n",
       "      <td>0</td>\n",
       "      <td>1548277960</td>\n",
       "      <td>NO_QUERY</td>\n",
       "      <td>AnitaKoch</td>\n",
       "      <td>@lkhalladay Colorado's a beautiful state, but ...</td>\n",
       "    </tr>\n",
       "  </tbody>\n",
       "</table>\n",
       "</div>"
      ],
      "text/plain": [
       "                     sentiment          id  NO_QUERY             user  \\\n",
       "date                                                                    \n",
       "2009-04-17 20:30:47          0  1548276360  NO_QUERY  customcanvasart   \n",
       "2009-04-17 20:30:54          0  1548276887  NO_QUERY     KuppyKakejEs   \n",
       "2009-04-17 20:30:55          0  1548276901  NO_QUERY        zoeydecay   \n",
       "2009-04-17 20:31:04          0  1548277792  NO_QUERY         leabella   \n",
       "2009-04-17 20:31:05          0  1548277960  NO_QUERY        AnitaKoch   \n",
       "\n",
       "                                                                 tweet  \n",
       "date                                                                    \n",
       "2009-04-17 20:30:47  @USEOFFORCEENT so sorry for your loss honey  I...  \n",
       "2009-04-17 20:30:54   Getting hair done tomorrow.Nawt exicted at all.   \n",
       "2009-04-17 20:30:55  Bored watching Law and Order. Wanting sunday t...  \n",
       "2009-04-17 20:31:04  Actually I had 503   maybe I should put my web...  \n",
       "2009-04-17 20:31:05  @lkhalladay Colorado's a beautiful state, but ...  "
      ]
     },
     "execution_count": 11,
     "metadata": {},
     "output_type": "execute_result"
    }
   ],
   "source": [
    "# Q1\n",
    "# TODO: Convert the `date` column into a datetime data-type\n",
    "\n",
    "df[\"date\"] = pd.to_datetime(df[\"date\"])\n",
    "\n",
    "df.set_index('date', inplace=True)\n",
    "\n",
    "df.head()"
   ]
  },
  {
   "cell_type": "code",
   "execution_count": 16,
   "metadata": {},
   "outputs": [],
   "source": [
    "# Q2\n",
    "# TODO: Resample according to 1-day and calculate the mean sentiment of each day\n",
    "\n",
    "# df.resample(\"1D\")[\"sentiment\"].mean().plot()\n",
    "\n",
    "daily_sentiment = df.resample(\"1D\")[\"sentiment\"].mean()\n",
    "\n",
    "daily_sentiment.to_csv(\"daily_sentiment.csv\")"
   ]
  },
  {
   "cell_type": "code",
   "execution_count": 17,
   "metadata": {},
   "outputs": [
    {
     "data": {
      "text/plain": [
       "<Axes: xlabel='date'>"
      ]
     },
     "execution_count": 17,
     "metadata": {},
     "output_type": "execute_result"
    },
    {
     "data": {
      "image/png": "[encoded data removed]",
      "text/plain": [
       "<Figure size 640x480 with 1 Axes>"
      ]
     },
     "metadata": {},
     "output_type": "display_data"
    }
   ],
   "source": [
    "weekly_sentiment = df.resample(\"1W\")[\"sentiment\"].mean()\n",
    "\n",
    "weekly_sentiment.plot()"
   ]
  },
  {
   "cell_type": "code",
   "execution_count": null,
   "metadata": {},
   "outputs": [],
   "source": [
    "# Q3\n",
    "# TODO: Resample according to a rolling window of 3-days and calculate the mean sentiment of period\n",
    "\n",
    "..."
   ]
  }
 ],
 "metadata": {
  "kernelspec": {
   "display_name": "base",
   "language": "python",
   "name": "python3"
  },
  "language_info": {
   "codemirror_mode": {
    "name": "ipython",
    "version": 3
   },
   "file_extension": ".py",
   "mimetype": "text/x-python",
   "name": "python",
   "nbconvert_exporter": "python",
   "pygments_lexer": "ipython3",
   "version": "3.12.4"
  }
 },
 "nbformat": 4,
 "nbformat_minor": 2
}
