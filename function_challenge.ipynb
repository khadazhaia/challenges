{
 "cells": [
  {
   "cell_type": "markdown",
   "id": "54bed81f",
   "metadata": {},
   "source": [
    "# Function Challenge\n",
    "\n",
    "These questions come from Think Python, 2nd Edition Ch. 5.\n",
    "\n",
    "I have adapted the questions slightly to better fit the needs of the class."
   ]
  },
  {
   "cell_type": "markdown",
   "id": "cb845d44",
   "metadata": {},
   "source": [
    "**Exercise 5.2.** Fermat’s Last Theorem says that there are no positive integers a, b, and c such that\n",
    "\n",
    "a^n + b^n = c^n\n",
    "\n",
    "for any values of n greater than 2.\n",
    "\n",
    "1. Write a function named check_fermat that takes four parameters—a, b, c and n—and\n",
    "checks to see if Fermat’s theorem holds. If n is greater than 2 and\n",
    "\n",
    "a^n + b^n = c^n\n",
    "\n",
    "the program should print, “Holy smokes, Fermat was wrong!” Otherwise the program should print, “No, that doesn’t work.”"
   ]
  },
  {
   "cell_type": "code",
   "execution_count": 20,
   "id": "bb5c225d",
   "metadata": {},
   "outputs": [],
   "source": [
    "##  Here is the general format of a function\n",
    "\n",
    "def function(parameter1, parameter2, parameter3, parameter4): #start with def, name of function, the number of parameters and :\n",
    "    # Write what you want your function to do, make sure to indent!\n",
    "    sum_of_params = parameter1 + parameter2 + parameter3 + parameter4\n",
    "    print(sum_of_params) # this will show us the result in the code\n",
    "    return sum_of_params #return is what will give us an answer to use elsewhere"
   ]
  },
  {
   "cell_type": "code",
   "execution_count": 21,
   "id": "a95b072a",
   "metadata": {},
   "outputs": [],
   "source": [
    "## Write your function here\n",
    "def check_fermat(a, b, c, n):\n",
    "    if (n > 2) and ((a ** n) + (b ** n) == (c ** n)):\n",
    "        print(\"Holy smokes, Fermat was wrong!\")\n",
    "    else:\n",
    "        print(\"No, that doesn't work\")\n",
    "          "
   ]
  },
  {
   "cell_type": "code",
   "execution_count": 22,
   "id": "c55db4f3",
   "metadata": {},
   "outputs": [
    {
     "name": "stdout",
     "output_type": "stream",
     "text": [
      "No, that doesn't work\n"
     ]
    }
   ],
   "source": [
    "check_fermat(1, 3, 4, 4)"
   ]
  },
  {
   "cell_type": "code",
   "execution_count": 23,
   "id": "9aa4e231",
   "metadata": {},
   "outputs": [
    {
     "name": "stdout",
     "output_type": "stream",
     "text": [
      "No, that doesn't work\n"
     ]
    }
   ],
   "source": [
    "check_fermat(1, 2, 3, 2)"
   ]
  },
  {
   "cell_type": "markdown",
   "id": "1bd002f9",
   "metadata": {},
   "source": [
    "2. Write a function that prompts the user to input values for a, b, c and n, converts them to\n",
    "integers, and uses check_fermat to check whether they violate Fermat’s theorem."
   ]
  },
  {
   "cell_type": "code",
   "execution_count": 7,
   "id": "bbdbebf5",
   "metadata": {},
   "outputs": [
    {
     "name": "stdout",
     "output_type": "stream",
     "text": [
      "No, that doesn't work\n"
     ]
    }
   ],
   "source": [
    "## Write your function here\n",
    "\n",
    "def check_fermat(a, b, c, n):\n",
    "    if (n > 2) and ((a ** n) + (b ** n) == (c ** n)):\n",
    "        print(\"Holy smokes, Fermat was wrong!\")\n",
    "    else:\n",
    "        print(\"No, that doesn't work\")\n",
    "\n",
    "def input_values():\n",
    "    a = int(input(\"Enter value for a:  \"))\n",
    "    b = int(input(\"Enter value for b:  \"))\n",
    "    c = int(input(\"Enter value for c:  \"))\n",
    "    n = int(input(\"Enter value for n:  \"))\n",
    "    return a, b, c, n\n",
    "\n",
    "a, b, c, n = input_values() \n",
    "\n",
    "check_fermat(a, b, c, n)\n"
   ]
  },
  {
   "cell_type": "markdown",
   "id": "165741ec",
   "metadata": {},
   "source": [
    "**Exercise 5.3.** If you are given three sticks, you may or may not be able to arrange them in a triangle.\n",
    "\n",
    "For example, if one of the sticks is 12 inches long and the other two are one inch long, you will not\n",
    "be able to get the short sticks to meet in the middle. For any three lengths, there is a simple test to\n",
    "see if it is possible to form a triangle:\n",
    "\n",
    "If any of the three lengths is greater than the sum of the other two, then you cannot\n",
    "form a triangle. Otherwise, you can. (If the sum of two lengths equals the third, they\n",
    "form what is called a “degenerate” triangle.)\n",
    "\n",
    "1. Write a function named is_triangle that takes three integers as arguments, and that prints\n",
    "either “Yes” or “No”, depending on whether you can or cannot form a triangle from sticks\n",
    "with the given lengths."
   ]
  },
  {
   "cell_type": "code",
   "execution_count": 3,
   "id": "535b97ff",
   "metadata": {},
   "outputs": [],
   "source": [
    "def is_triangle(x, y, z):\n",
    "    if (x > y + z) or (y > x + z) or (z > x + y):\n",
    "        print(\"No\")\n",
    "    elif (x + y == z) or (z + y == x) or (x + z == y):\n",
    "        print(\"Yes\")\n"
   ]
  },
  {
   "cell_type": "markdown",
   "id": "0cc4df79",
   "metadata": {},
   "source": [
    "2. Write a function that prompts the user to input three stick lengths, converts them to integers,\n",
    "and uses is_triangle to check whether sticks with the given lengths can form a triangle."
   ]
  },
  {
   "cell_type": "code",
   "execution_count": 5,
   "id": "dd37bffd",
   "metadata": {},
   "outputs": [
    {
     "name": "stdout",
     "output_type": "stream",
     "text": [
      "Yes\n"
     ]
    }
   ],
   "source": [
    "def stick_lengths():\n",
    "    x = int(input(\"Enter value for x:  \"))\n",
    "    y = int(input(\"Enter value for y:  \"))\n",
    "    z = int(input(\"Enter value for z:  \"))\n",
    "    return x, y, z\n",
    "\n",
    "x, y, z = stick_lengths() \n",
    "\n",
    "is_triangle(x, y, z)"
   ]
  },
  {
   "cell_type": "markdown",
   "id": "1a9f2460",
   "metadata": {},
   "source": [
    "**Exercise 5.4.** What is the output of the following program? Write down what you think this program is trying to do.\n",
    "\n",
    "Answer Here:"
   ]
  },
  {
   "cell_type": "code",
   "execution_count": 2,
   "id": "9495e892",
   "metadata": {},
   "outputs": [
    {
     "data": {
      "text/plain": [
       "' The output of this program is that it will run forever due to the recurse(3, 0). It will error out as n will never equal to O. I think the program is trying to add all the integers from n minus 1 to the initial value s, until n equals 0'"
      ]
     },
     "execution_count": 2,
     "metadata": {},
     "output_type": "execute_result"
    }
   ],
   "source": [
    "def recurse(n, s):\n",
    "    if n == 0:\n",
    "        print(s)\n",
    "    else:\n",
    "        recurse(n-1, n+s)\n",
    "        recurse(3, 0)\n",
    "\n",
    "''' The output of this program is that it will run forever due to the recurse(3, 0). It will error out as n will never equal to O. I think the program is trying to add all the integers from n minus 1 to the initial value s, until n equals 0'''"
   ]
  },
  {
   "cell_type": "markdown",
   "id": "20d459e6",
   "metadata": {},
   "source": [
    "What would happen if you called this function like this: recurse(-1, 0)?"
   ]
  },
  {
   "cell_type": "markdown",
   "id": "3be011e2",
   "metadata": {},
   "source": [
    "An error will happen due to the recurse(3,0)"
   ]
  }
 ],
 "metadata": {
  "kernelspec": {
   "display_name": "base",
   "language": "python",
   "name": "python3"
  },
  "language_info": {
   "codemirror_mode": {
    "name": "ipython",
    "version": 3
   },
   "file_extension": ".py",
   "mimetype": "text/x-python",
   "name": "python",
   "nbconvert_exporter": "python",
   "pygments_lexer": "ipython3",
   "version": "3.12.4"
  }
 },
 "nbformat": 4,
 "nbformat_minor": 5
}
