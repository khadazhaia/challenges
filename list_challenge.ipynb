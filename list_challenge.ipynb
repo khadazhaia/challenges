{
 "cells": [
  {
   "cell_type": "markdown",
   "metadata": {},
   "source": [
    "# List Challenge\n",
    "\n",
    "The following is a Jupyter Notebook which will test your knowledge on lists and functions. Utilize your notes, your pod peers, and your documentation to answer the following questions.\n",
    "\n",
    "Implement each intended line of code beneath each comment."
   ]
  },
  {
   "cell_type": "code",
   "execution_count": 28,
   "metadata": {},
   "outputs": [],
   "source": [
    "# 1a) Write a Python function to reverse a string\n",
    "... \n",
    "def reverse(x:str) -> str:\n",
    "    return x[::-1]"
   ]
  },
  {
   "cell_type": "code",
   "execution_count": 29,
   "metadata": {},
   "outputs": [
    {
     "name": "stdout",
     "output_type": "stream",
     "text": [
      "racecar\n"
     ]
    }
   ],
   "source": [
    "# 1b) Use this function to reverse the string saved in the name below\n",
    "word = \"racecar\"\n",
    "...\n",
    "print(reverse(word))"
   ]
  },
  {
   "cell_type": "code",
   "execution_count": 30,
   "metadata": {},
   "outputs": [],
   "source": [
    "# 2a) Write a Python function to multiply all the numbers in a list.\n",
    "def multipy_num(list):\n",
    "    num = 1\n",
    "    for l in list:\n",
    "        num *= l\n",
    "    return num \n",
    "  \n",
    "        \n",
    "\n",
    "\n"
   ]
  },
  {
   "cell_type": "code",
   "execution_count": 31,
   "metadata": {},
   "outputs": [
    {
     "name": "stdout",
     "output_type": "stream",
     "text": [
      "362880\n"
     ]
    }
   ],
   "source": [
    "# 2b) Use this function to find the product of the list below\n",
    "nums = [1, 2, 3, 4, 5, 6, 7, 8, 9]\n",
    "print(multipy_num(nums))"
   ]
  },
  {
   "cell_type": "code",
   "execution_count": 38,
   "metadata": {},
   "outputs": [],
   "source": [
    "# 3a) Write a Python function that finds the maximum value of a list\n",
    "# NOTE: do not use built-in Python functions. Instead use a for-loop and\n",
    "# a conditional\n",
    "def max_value(num):\n",
    "     maximum = 0\n",
    "     for i in num:\n",
    "       if i > maximum: \n",
    "          maximum = i\n",
    "     return maximum\n",
    "          \n",
    "           "
   ]
  },
  {
   "cell_type": "code",
   "execution_count": 41,
   "metadata": {},
   "outputs": [
    {
     "name": "stdout",
     "output_type": "stream",
     "text": [
      "600\n"
     ]
    }
   ],
   "source": [
    "\n",
    "# 3b) Use this function to find the product of the list below\n",
    "nums = [100, 491, 592, 58, 3, 59, -100]\n",
    "print(max_value(nums))\n"
   ]
  }
 ],
 "metadata": {
  "kernelspec": {
   "display_name": "base",
   "language": "python",
   "name": "python3"
  },
  "language_info": {
   "codemirror_mode": {
    "name": "ipython",
    "version": 3
   },
   "file_extension": ".py",
   "mimetype": "text/x-python",
   "name": "python",
   "nbconvert_exporter": "python",
   "pygments_lexer": "ipython3",
   "version": "3.12.4"
  }
 },
 "nbformat": 4,
 "nbformat_minor": 2
}
