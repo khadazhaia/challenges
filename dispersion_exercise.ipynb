{
 "cells": [
  {
   "cell_type": "markdown",
   "metadata": {},
   "source": [
    "# Measures of Dispersion Code-Along\n",
    "\n",
    "For today's stats lab, we will go over a few coding examples entailing the calculation of variance measures using Python. Run the code-block below to get started and create your 3 datasets."
   ]
  },
  {
   "cell_type": "code",
   "execution_count": null,
   "metadata": {},
   "outputs": [],
   "source": [
    "data1 = [-250.92, 901.43, 463.99, 197.32, -687.96, -688.01, -883.83, 732.35, 202.23, 416.15, -958.83, 939.82, 664.89, -575.32, -636.35, -633.19, -391.52, 49.51, -136.11, -417.54, 223.71, -721.01, -415.71, -267.28, -87.86, 570.35, -600.65, 28.47, 184.83, -907.10]\n",
    "data2 = [10.06, 10.02, 10.01, 10.09, 10.10, 10.08, 10.03, 10.01, 10.07, 10.04, 10.01, 10.05, 10.00, 10.09, 10.03, 10.07, 10.03, 10.05, 10.05, 10.02, 10.10, 10.08, 10.09, 10.09, 10.06, 10.09, 10.01, 10.02, 10.00, 10.03]\n",
    "data3 = [-14.79, -7.20, -4.61, 10.57, 3.44, -17.63, 3.24, -3.85, -6.77, 6.12, 10.31, 9.31, -8.39, -3.09, 3.31, 9.76, -4.79, -1.86, -11.06, -11.96, 8.13, 13.56, -0.72, 10.04, 3.62, -6.45, 3.61, 15.38, -0.36, 15.65]"
   ]
  },
  {
   "cell_type": "markdown",
   "metadata": {},
   "source": [
    "## Summation\n",
    "\n",
    "First, let's calculate the summation of all 3 datasets. Implement the comments described in the code-block below."
   ]
  },
  {
   "cell_type": "code",
   "execution_count": 11,
   "metadata": {},
   "outputs": [
    {
     "name": "stdout",
     "output_type": "stream",
     "text": [
      "-3684.140000000001\n",
      "9703896.342\n"
     ]
    }
   ],
   "source": [
    "# using a for-loop, calculate the summation of data1, data2, and data3. Save these values into a variable and print\n",
    "...\n",
    "\n",
    "data1 = [-250.92, 901.43, 463.99, 197.32, -687.96, -688.01, -883.83, 732.35, 202.23, 416.15, -958.83, 939.82, 664.89, -575.32, -636.35, -633.19, -391.52, 49.51, -136.11, -417.54, 223.71, -721.01, -415.71, -267.28, -87.86, 570.35, -600.65, 28.47, 184.83, -907.10]\n",
    "data2 = [10.06, 10.02, 10.01, 10.09, 10.10, 10.08, 10.03, 10.01, 10.07, 10.04, 10.01, 10.05, 10.00, 10.09, 10.03, 10.07, 10.03, 10.05, 10.05, 10.02, 10.10, 10.08, 10.09, 10.09, 10.06, 10.09, 10.01, 10.02, 10.00, 10.03]\n",
    "data3 = [-14.79, -7.20, -4.61, 10.57, 3.44, -17.63, 3.24, -3.85, -6.77, 6.12, 10.31, 9.31, -8.39, -3.09, 3.31, 9.76, -4.79, -1.86, -11.06, -11.96, 8.13, 13.56, -0.72, 10.04, 3.62, -6.45, 3.61, 15.38, -0.36, 15.65]\n",
    "\n",
    "\n",
    "def total(data):\n",
    "     num = 0\n",
    "     for d in data:\n",
    "          num += d\n",
    "     return num\n",
    "\n",
    "print(total(data1))\n",
    "\n",
    "\n",
    "# square the summations of the 3 datasets above. Save these values into a variable and print\n",
    "\n",
    "def square(data):\n",
    "     num = 0\n",
    "     for sq in data:\n",
    "         sq **= 2\n",
    "         num += sq\n",
    "     return num\n",
    "\n",
    "print(square(data1))\n",
    "     \n",
    "\n",
    "# using a for-loop, calculate the squared summation of data1, data2, and data3. Save these values into a variable and print\n",
    "# compare these values to the squared summation above\n",
    "..."
   ]
  },
  {
   "cell_type": "markdown",
   "metadata": {},
   "source": [
    "## Range\n",
    "\n",
    "Next, we will calculate the range of all 3 datasets."
   ]
  },
  {
   "cell_type": "code",
   "execution_count": null,
   "metadata": {},
   "outputs": [],
   "source": [
    "# calculate range of data1, data2, and data3. Save these values into a variable and print.\n",
    "...\n"
   ]
  },
  {
   "cell_type": "markdown",
   "metadata": {},
   "source": [
    "## Interquartile Range (IQR)\n",
    "\n",
    "Next, we wil calculte the IQR of our 3 datasets."
   ]
  },
  {
   "cell_type": "code",
   "execution_count": null,
   "metadata": {},
   "outputs": [],
   "source": [
    "# calculate IQR of data1, data2, and data3. Save these values into a variable and print.\n",
    "...\n"
   ]
  },
  {
   "cell_type": "markdown",
   "metadata": {},
   "source": [
    "## Mean Absolute Deviation\n",
    "\n",
    "Use the formula from the slides to calculate MAD."
   ]
  },
  {
   "cell_type": "code",
   "execution_count": null,
   "metadata": {},
   "outputs": [],
   "source": [
    "# using a for-loop, calculate MAD of data1, data2, and data3. Save these values into a variable and print.\n",
    "...\n"
   ]
  },
  {
   "cell_type": "markdown",
   "metadata": {},
   "source": [
    "## Variance\n",
    "\n",
    "Use the formula from the slides to calculate variance."
   ]
  },
  {
   "cell_type": "code",
   "execution_count": null,
   "metadata": {},
   "outputs": [],
   "source": [
    "# using a for-loop, calculate variance of data1, data2, and data3. Save these values into a variable and print.\n",
    "...\n"
   ]
  },
  {
   "cell_type": "markdown",
   "metadata": {},
   "source": [
    "## Standard Deviation\n",
    "\n",
    "Use the previous values you've calculated to calculate standard deviation."
   ]
  },
  {
   "cell_type": "code",
   "execution_count": null,
   "metadata": {},
   "outputs": [],
   "source": [
    "# calculate the standard deviation of data1, data2, and data3. Save these values into a variable and print.\n",
    "...\n"
   ]
  }
 ],
 "metadata": {
  "kernelspec": {
   "display_name": "Python 3",
   "language": "python",
   "name": "python3"
  },
  "language_info": {
   "codemirror_mode": {
    "name": "ipython",
    "version": 3
   },
   "file_extension": ".py",
   "mimetype": "text/x-python",
   "name": "python",
   "nbconvert_exporter": "python",
   "pygments_lexer": "ipython3",
   "version": "3.12.4"
  }
 },
 "nbformat": 4,
 "nbformat_minor": 2
}
